{
 "cells": [
  {
   "cell_type": "markdown",
   "metadata": {},
   "source": [
    "****************************************************************************\n",
    "* @file: BasicThread.py\n",
    "* @project: ROBOFEI-HT - FEI 😛\n",
    "* @author: Vinicius Nicassio Ferreira\n",
    "* @version: V0.0.1\n",
    "* @created: 23/10/2017\n",
    "* @e-mail: vinicius.nicassio@gmail.com\n",
    "* @brief: Class BasicThread\n",
    "****************************************************************************"
   ]
  },
  {
   "cell_type": "code",
   "execution_count": 1,
   "metadata": {
    "collapsed": true
   },
   "outputs": [],
   "source": [
    "#ini-iPython"
   ]
  },
  {
   "cell_type": "markdown",
   "metadata": {},
   "source": [
    "# Executando no diretório principal"
   ]
  },
  {
   "cell_type": "code",
   "execution_count": 2,
   "metadata": {
    "collapsed": true
   },
   "outputs": [],
   "source": [
    "import os\n",
    "os.chdir('../../') #Executando na pasta Visual_Memory\n",
    "os.system(\"cd Workbench/ && ./zerar.sh && cd ..\")\n",
    "os.system(\"cd Workbench/iPython/ && ./convertendo.sh && cd ../../\")\n",
    "import sys\n",
    "sys.path.append('./include')\n",
    "sys.path.append('./src')\n",
    "sys.path.append('./Workbench/iPython')\n",
    "#end-iPython"
   ]
  },
  {
   "cell_type": "markdown",
   "metadata": {
    "collapsed": true
   },
   "source": [
    "---- Imports ----"
   ]
  },
  {
   "cell_type": "code",
   "execution_count": 3,
   "metadata": {
    "collapsed": true
   },
   "outputs": [],
   "source": [
    "# Libraries to be used.\n",
    "import sys\n",
    "#des-iPython sys.path.append('../include')\n",
    "#des-iPython sys.path.append('../src')"
   ]
  },
  {
   "cell_type": "code",
   "execution_count": 4,
   "metadata": {
    "collapsed": true
   },
   "outputs": [],
   "source": [
    "# The standard libraries used in the visual memory system.\n",
    "from threading import Thread, Condition, Lock # Used to create classes with thread functions"
   ]
  },
  {
   "cell_type": "code",
   "execution_count": 5,
   "metadata": {
    "collapsed": false
   },
   "outputs": [],
   "source": [
    "# Used class developed by RoboFEI-HT.\n",
    "from BasicProcesses import * # Standard and abstract class."
   ]
  },
  {
   "cell_type": "markdown",
   "metadata": {
    "collapsed": true
   },
   "source": [
    "# Class to BasicThread\n",
    "Responsible for implementing the methods and variables responsible for managing the thread.\n",
    "doxygen-iPython"
   ]
  },
  {
   "cell_type": "code",
   "execution_count": 6,
   "metadata": {
    "collapsed": true
   },
   "outputs": [],
   "source": [
    "#des-iPython class BasicThread(BasicProcesses, Thread):\n",
    "#ini-tab -> Iniciando código classe\n",
    "#des-iPython __metaclass__ = ABCMeta"
   ]
  },
  {
   "cell_type": "markdown",
   "metadata": {},
   "source": [
    "---- Variables ----"
   ]
  },
  {
   "cell_type": "code",
   "execution_count": 7,
   "metadata": {
    "collapsed": true
   },
   "outputs": [],
   "source": [
    "#ini-iPython\n",
    "\n",
    "# ------- Lista de funções -------\n",
    "\n",
    "#self-iPython _pause\n",
    "#self-iPython _resume\n",
    "#self-iPython run\n",
    "#self-iPython _finalize\n",
    "#self-iPython printPreviousLine\n",
    "\n",
    "#end-iPython - Fim listas"
   ]
  },
  {
   "cell_type": "markdown",
   "metadata": {},
   "source": [
    "# _running\n",
    "Reports whether the thread is still running.\n",
    "doxygen-iPython"
   ]
  },
  {
   "cell_type": "code",
   "execution_count": 8,
   "metadata": {
    "collapsed": true
   },
   "outputs": [],
   "source": [
    "_running = False #self-iPython _running"
   ]
  },
  {
   "cell_type": "markdown",
   "metadata": {},
   "source": [
    "# __pauseistrue\n",
    "Variable responsible for managing thread pause and execution.\n",
    "doxygen-iPython"
   ]
  },
  {
   "cell_type": "code",
   "execution_count": 9,
   "metadata": {
    "collapsed": true
   },
   "outputs": [],
   "source": [
    "__pauseistrue = False #self-iPython __pauseistrue"
   ]
  },
  {
   "cell_type": "markdown",
   "metadata": {},
   "source": [
    "# _pausethread\n",
    "Variable responsible for managing thread pause and execution.\n",
    "doxygen-iPython"
   ]
  },
  {
   "cell_type": "code",
   "execution_count": 10,
   "metadata": {
    "collapsed": true
   },
   "outputs": [],
   "source": [
    "_pausethread = None #self-iPython _pausethread"
   ]
  },
  {
   "cell_type": "markdown",
   "metadata": {},
   "source": [
    "# pause\n",
    "doxygen-iPython"
   ]
  },
  {
   "cell_type": "code",
   "execution_count": 11,
   "metadata": {
    "collapsed": true
   },
   "outputs": [],
   "source": [
    "#eself-iPython _pause\n",
    "#edes-iPython def _pause(self):\n",
    "def _pause( ):\n",
    "    '''Function responsible for stopping thread execution.'''\n",
    "    global __pauseistrue #debug-iPython\n",
    "    if not __pauseistrue:\n",
    "        _pausethread.acquire()\n",
    "        __pauseistrue = True #self-iPython _pause"
   ]
  },
  {
   "cell_type": "code",
   "execution_count": 12,
   "metadata": {
    "collapsed": true
   },
   "outputs": [],
   "source": [
    "#ini-iPython"
   ]
  },
  {
   "cell_type": "markdown",
   "metadata": {},
   "source": [
    "## Teste pause"
   ]
  },
  {
   "cell_type": "code",
   "execution_count": 13,
   "metadata": {
    "collapsed": false
   },
   "outputs": [],
   "source": [
    "_pausethread = Condition(Lock())\n",
    "_pause()\n",
    "_pausethread = None\n",
    "#end-iPython"
   ]
  },
  {
   "cell_type": "markdown",
   "metadata": {},
   "source": [
    "# resume\n",
    "doxygen-iPython"
   ]
  },
  {
   "cell_type": "code",
   "execution_count": 14,
   "metadata": {
    "collapsed": true
   },
   "outputs": [],
   "source": [
    "#eself-iPython _resume\n",
    "#edes-iPython def _resume(self):\n",
    "def _resume( ):\n",
    "    '''Responsible function for releasing the thread for execution.'''\n",
    "    global __pauseistrue #debug-iPython\n",
    "    if __pauseistrue:\n",
    "        _pausethread.notify()\n",
    "        _pausethread.release()\n",
    "        __pauseistrue = False #self-iPython _resume"
   ]
  },
  {
   "cell_type": "code",
   "execution_count": 15,
   "metadata": {
    "collapsed": true
   },
   "outputs": [],
   "source": [
    "#ini-iPython"
   ]
  },
  {
   "cell_type": "markdown",
   "metadata": {},
   "source": [
    "## Teste resume"
   ]
  },
  {
   "cell_type": "code",
   "execution_count": 16,
   "metadata": {
    "collapsed": false
   },
   "outputs": [],
   "source": [
    "_pausethread = Condition(Lock())\n",
    "__pauseistrue = False\n",
    "_pause()\n",
    "_resume()\n",
    "_pausethread = None\n",
    "#end-iPython"
   ]
  },
  {
   "cell_type": "markdown",
   "metadata": {},
   "source": [
    "# Constructor Class\n",
    "doxygen-iPython"
   ]
  },
  {
   "cell_type": "code",
   "execution_count": 17,
   "metadata": {
    "collapsed": false
   },
   "outputs": [],
   "source": [
    "#des-iPython @abstractmethod\n",
    "#des-iPython def __init__(self, a, s, obj):\n",
    "#ini-tab -> Criando construtor\n",
    "# Starting parent classes\n",
    "#des-iPython super(BasicThread, self).__init__(a, s, obj)\n",
    "\n",
    "#des-iPython Thread.__init__(self)\n",
    "\n",
    "# Instantiating control variable.\n",
    "_pausethread = Condition(Lock( ))\n",
    "\n",
    "# Stopping the process.\n",
    "_pause( )"
   ]
  },
  {
   "cell_type": "code",
   "execution_count": 18,
   "metadata": {
    "collapsed": true
   },
   "outputs": [],
   "source": [
    "#end-tab -> Finalizando construtor"
   ]
  },
  {
   "cell_type": "code",
   "execution_count": 19,
   "metadata": {
    "collapsed": false
   },
   "outputs": [],
   "source": [
    "#ini-iPython"
   ]
  },
  {
   "cell_type": "markdown",
   "metadata": {},
   "source": [
    "## Teste construtor"
   ]
  },
  {
   "cell_type": "code",
   "execution_count": 20,
   "metadata": {
    "collapsed": false
   },
   "outputs": [],
   "source": [
    "\n",
    "#end-iPython"
   ]
  },
  {
   "cell_type": "markdown",
   "metadata": {},
   "source": [
    "# run\n",
    "doxygen-iPython"
   ]
  },
  {
   "cell_type": "code",
   "execution_count": 21,
   "metadata": {
    "collapsed": true
   },
   "outputs": [],
   "source": [
    "#eself-iPython run\n",
    "#des-iPython @abstractmethod\n",
    "#edes-iPython def run(self):\n",
    "def run( ):\n",
    "    '''Sample function for a thread.'''\n",
    "    _running = True\n",
    "    while _running:\n",
    "        with _pausethread:\n",
    "            print \"Hello Word !\"\n",
    "            time.sleep(1)\n",
    "        _pause( ) #self-iPython run"
   ]
  },
  {
   "cell_type": "markdown",
   "metadata": {},
   "source": [
    "# _finalize\n",
    "doxygen-iPython"
   ]
  },
  {
   "cell_type": "code",
   "execution_count": 22,
   "metadata": {
    "collapsed": true
   },
   "outputs": [],
   "source": [
    "#eself-iPython _finalize\n",
    "#edes-iPython def _finalize(self):\n",
    "def _finalize( ):\n",
    "    '''Responsible for closing a thread.'''\n",
    "    _running = False\n",
    "    _resume( )\n",
    "    #des-iPython self.join( ) #self-iPython _finalize"
   ]
  },
  {
   "cell_type": "code",
   "execution_count": 23,
   "metadata": {
    "collapsed": true
   },
   "outputs": [],
   "source": [
    "#ini-iPython"
   ]
  },
  {
   "cell_type": "markdown",
   "metadata": {},
   "source": [
    "## Teste _finalize"
   ]
  },
  {
   "cell_type": "code",
   "execution_count": 24,
   "metadata": {
    "collapsed": false
   },
   "outputs": [],
   "source": [
    "_finalize( )\n",
    "#end-iPython"
   ]
  },
  {
   "cell_type": "markdown",
   "metadata": {},
   "source": [
    "# printPreviousLine\n",
    "doxygen-iPython"
   ]
  },
  {
   "cell_type": "code",
   "execution_count": 25,
   "metadata": {
    "collapsed": true
   },
   "outputs": [],
   "source": [
    "#eself-iPython printPreviousLine\n",
    "#edes-iPython def printPreviousLine(self, text, lines=1, back=True):\n",
    "def printPreviousLine(text, lines=1, back=True):\n",
    "    '''Used to print on previous lines.\n",
    "    @param text Text to be printed.\n",
    "    @param lines Number of rows returned.\n",
    "    @param back Go back to where you were.'''\n",
    "    for i in xrange(lines):\n",
    "        print \"\\033[F\\r\",\n",
    "    print text\n",
    "\n",
    "    if back:\n",
    "        for i in xrange(lines - 1):\n",
    "            print \"\" #self-iPython printPreviousLine"
   ]
  },
  {
   "cell_type": "code",
   "execution_count": 26,
   "metadata": {
    "collapsed": false
   },
   "outputs": [],
   "source": [
    "#end-tab -> Finalizando classe"
   ]
  },
  {
   "cell_type": "code",
   "execution_count": 27,
   "metadata": {
    "collapsed": true
   },
   "outputs": [],
   "source": [
    "#ini-iPython"
   ]
  },
  {
   "cell_type": "markdown",
   "metadata": {},
   "source": [
    "# nova_variavel\n",
    ".\n",
    "doxygen-iPython"
   ]
  },
  {
   "cell_type": "code",
   "execution_count": 28,
   "metadata": {
    "collapsed": true
   },
   "outputs": [],
   "source": [
    "nova_variavel = None #self-iPython nova_variavel"
   ]
  },
  {
   "cell_type": "markdown",
   "metadata": {},
   "source": [
    "# nova_funcao\n",
    ".\n",
    "doxygen-iPython"
   ]
  },
  {
   "cell_type": "code",
   "execution_count": 29,
   "metadata": {
    "collapsed": true
   },
   "outputs": [],
   "source": [
    "# eself-iPython nova_funcao\n",
    "# edes-iPython def nova_funcao(self, variaveis_funcao):\n",
    "def nova_funcao(variaveis_funcao):\n",
    "    pass # self-iPython nova_funcao"
   ]
  },
  {
   "cell_type": "code",
   "execution_count": 30,
   "metadata": {
    "collapsed": true
   },
   "outputs": [],
   "source": [
    "#ini-iPython"
   ]
  },
  {
   "cell_type": "markdown",
   "metadata": {},
   "source": [
    "## Teste nova_funcao"
   ]
  },
  {
   "cell_type": "code",
   "execution_count": 31,
   "metadata": {
    "collapsed": true
   },
   "outputs": [],
   "source": [
    "\n",
    "#end-iPython"
   ]
  },
  {
   "cell_type": "code",
   "execution_count": 32,
   "metadata": {
    "collapsed": true
   },
   "outputs": [],
   "source": [
    "#end-iPython"
   ]
  }
 ],
 "metadata": {
  "kernelspec": {
   "display_name": "Python 2",
   "language": "python",
   "name": "python2"
  },
  "language_info": {
   "codemirror_mode": {
    "name": "ipython",
    "version": 2
   },
   "file_extension": ".py",
   "mimetype": "text/x-python",
   "name": "python",
   "nbconvert_exporter": "python",
   "pygments_lexer": "ipython2",
   "version": "2.7.6"
  }
 },
 "nbformat": 4,
 "nbformat_minor": 2
}
