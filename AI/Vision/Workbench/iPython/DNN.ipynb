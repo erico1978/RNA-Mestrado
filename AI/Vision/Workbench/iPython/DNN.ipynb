{
 "cells": [
  {
   "cell_type": "markdown",
   "metadata": {},
   "source": [
    "****************************************************************************\n",
    "* @file: DNN.py\n",
    "* @project: ROBOFEI-HT - FEI 😛\n",
    "* @author: Vinicius Nicassio Ferreira\n",
    "* @version: V0.0.1\n",
    "* @created: 23/10/2017\n",
    "* @e-mail: vinicius.nicassio@gmail.com\n",
    "* @brief: Class DNN\n",
    "****************************************************************************"
   ]
  },
  {
   "cell_type": "code",
   "execution_count": 1,
   "metadata": {
    "collapsed": true
   },
   "outputs": [],
   "source": [
    "#ini-iPython"
   ]
  },
  {
   "cell_type": "markdown",
   "metadata": {},
   "source": [
    "# Executando no diretório principal"
   ]
  },
  {
   "cell_type": "code",
   "execution_count": 2,
   "metadata": {
    "collapsed": true
   },
   "outputs": [],
   "source": [
    "import os\n",
    "os.chdir('../../') #Executando no diretório principal\n",
    "os.system('cd Workbench/ && ./zerar.sh && cd ..')\n",
    "os.system('cd Workbench/iPython/ && ./convertendo.sh && cd ../../')\n",
    "import sys\n",
    "sys.path.append('./include')\n",
    "sys.path.append('./src')\n",
    "sys.path.append('./Workbench/iPython')\n",
    "#end-iPython"
   ]
  },
  {
   "cell_type": "markdown",
   "metadata": {
    "collapsed": true
   },
   "source": [
    "---- Imports ----"
   ]
  },
  {
   "cell_type": "code",
   "execution_count": 3,
   "metadata": {
    "collapsed": true
   },
   "outputs": [],
   "source": [
    "# The standard libraries used in the vision system.\n",
    "import tarfile # Used for manipulating tar files.\n",
    "import pandas as pd # Utilizado para manipular dados e tabelas\n",
    "import os # Biblioteca utilizada para interação com o sistema\n",
    "import shutil # Biblioteca utilizada para apagar diretorios com arquivos\n",
    "import time # Libraries used for time management."
   ]
  },
  {
   "cell_type": "code",
   "execution_count": 4,
   "metadata": {
    "collapsed": false
   },
   "outputs": [],
   "source": [
    "# The standard libraries used in the visual memory system.\n",
    "import cv2 # OpenCV library used for image processing.\n",
    "import numpy as np # Library used for operations with matrix and array.\n",
    "\n",
    "# Libraries to supporting the network execution using Tensorflow.\n",
    "#ini-iPython - Utilizado para o iPython reconhecer as classes\n",
    "sys.path.append('/home/vinicius/models/research')\n",
    "sys.path.append('/home/vinicius/models/research/object_detection')\n",
    "#end-iPython\n",
    "import tensorflow as tf\n",
    "from utils import label_map_util\n",
    "from utils import visualization_utils as vis_util"
   ]
  },
  {
   "cell_type": "code",
   "execution_count": 5,
   "metadata": {
    "collapsed": false
   },
   "outputs": [],
   "source": [
    "# Used class developed by RoboFEI-HT.\n",
    "#ini-iPython - Usando Classe BasicProcesses como instanciação\n",
    "os.system(\"sed -i '/@abstractmethod/d' ./Workbench/iPython/BasicProcesses.py\")\n",
    "os.system(\"sed -i '/__metaclass__/d' ./Workbench/iPython/BasicProcesses.py\")\n",
    "#end-iPython\n",
    "from BasicProcesses import * # Standard and abstract class."
   ]
  },
  {
   "cell_type": "markdown",
   "metadata": {
    "collapsed": true
   },
   "source": [
    "# Class DNN\n",
    "Class that implements object detection using a deep neural network (DNN).\n",
    "doxygen-iPython"
   ]
  },
  {
   "cell_type": "code",
   "execution_count": 6,
   "metadata": {
    "collapsed": true
   },
   "outputs": [],
   "source": [
    "#des-iPython class DNN(BasicProcesses):\n",
    "#ini-tab -> Iniciando código classe"
   ]
  },
  {
   "cell_type": "markdown",
   "metadata": {},
   "source": [
    "---- Variables ----"
   ]
  },
  {
   "cell_type": "code",
   "execution_count": 7,
   "metadata": {
    "collapsed": true
   },
   "outputs": [],
   "source": [
    "#ini-iPython\n",
    "\n",
    "# ------- Lista de funções -------\n",
    "\n",
    "#self-iPython __unzipNetwork\n",
    "#self-iPython __instantiatingDNNVariables\n",
    "#self-iPython __detectDNN\n",
    "#self-iPython detect\n",
    "#self-iPython finalize\n",
    "#self-iPython __trackbarThresholdMin\n",
    "#self-iPython __trackbarThresholdMax\n",
    "\n",
    "class argumentos:\n",
    "    camera = False\n",
    "    dnn = True\n",
    "    train = False\n",
    "\n",
    "a = argumentos()\n",
    "#end-iPython - Fim listas"
   ]
  },
  {
   "cell_type": "markdown",
   "metadata": {},
   "source": [
    "# EXTRACTION_DIRECTORY\n",
    "Diretorio aonde será extraida a rede.\n",
    "doxygen-iPython"
   ]
  },
  {
   "cell_type": "code",
   "execution_count": 8,
   "metadata": {
    "collapsed": true
   },
   "outputs": [],
   "source": [
    "__EXTRACTION_DIRECTORY = './Data/Rede' #self-iPython __EXTRACTION_DIRECTORY"
   ]
  },
  {
   "cell_type": "markdown",
   "metadata": {},
   "source": [
    "# PATH_TO_CKPT\n",
    "Path to frozen detection graph. This is the actual model that is used for the object detection.\n",
    "doxygen-iPython"
   ]
  },
  {
   "cell_type": "code",
   "execution_count": 9,
   "metadata": {
    "collapsed": true
   },
   "outputs": [],
   "source": [
    "__PATH_TO_CKPT = 'frozen_inference_graph.pb' #self-iPython __PATH_TO_CKPT"
   ]
  },
  {
   "cell_type": "markdown",
   "metadata": {},
   "source": [
    "# PATH_TO_LABELS\n",
    "List of the strings that is used to add correct label for each box.\n",
    "doxygen-iPython"
   ]
  },
  {
   "cell_type": "code",
   "execution_count": 10,
   "metadata": {
    "collapsed": true
   },
   "outputs": [],
   "source": [
    "__PATH_TO_LABELS = 'object-detection.pbtxt' #self-iPython __PATH_TO_LABELS"
   ]
  },
  {
   "cell_type": "markdown",
   "metadata": {},
   "source": [
    "# DIRECTORY_TRAINING_IMAGES\n",
    "Directory where the training imagens will be saved.\n",
    "doxygen-iPython"
   ]
  },
  {
   "cell_type": "code",
   "execution_count": 11,
   "metadata": {
    "collapsed": true
   },
   "outputs": [],
   "source": [
    "__DIRECTORY_TRAINING_IMAGES = './Train' #self-iPython __DIRECTORY_TRAINING_IMAGES"
   ]
  },
  {
   "cell_type": "markdown",
   "metadata": {},
   "source": [
    "# numclasses\n",
    "The Number of classes that are detected by the network.\n",
    "doxygen-iPython"
   ]
  },
  {
   "cell_type": "code",
   "execution_count": 12,
   "metadata": {
    "collapsed": true
   },
   "outputs": [],
   "source": [
    "__numclasses = None #self-iPython __numclasses"
   ]
  },
  {
   "cell_type": "markdown",
   "metadata": {},
   "source": [
    "# detection_graph\n",
    "Variavel de configuração do TensorFlow.\n",
    "doxygen-iPython"
   ]
  },
  {
   "cell_type": "code",
   "execution_count": 13,
   "metadata": {
    "collapsed": true
   },
   "outputs": [],
   "source": [
    "__detection_graph = None #self-iPython __detection_graph"
   ]
  },
  {
   "cell_type": "markdown",
   "metadata": {},
   "source": [
    "# sess\n",
    "Variavel de execução do TensorFlow.\n",
    "doxygen-iPython"
   ]
  },
  {
   "cell_type": "code",
   "execution_count": 14,
   "metadata": {
    "collapsed": true
   },
   "outputs": [],
   "source": [
    "__sess = None #self-iPython __sess"
   ]
  },
  {
   "cell_type": "markdown",
   "metadata": {},
   "source": [
    "# __label\n",
    "Dicionario com as strings das classes que seram detectadas pela rede.\n",
    "doxygen-iPython"
   ]
  },
  {
   "cell_type": "code",
   "execution_count": 15,
   "metadata": {
    "collapsed": true
   },
   "outputs": [],
   "source": [
    "__label = None #self-iPython __label"
   ]
  },
  {
   "cell_type": "markdown",
   "metadata": {},
   "source": [
    "# __parameters\n",
    "Parametros de configuração para a execução da DNN.\n",
    "doxygen-iPython"
   ]
  },
  {
   "cell_type": "code",
   "execution_count": 16,
   "metadata": {
    "collapsed": true
   },
   "outputs": [],
   "source": [
    "__parameters = None #self-iPython __parameters"
   ]
  },
  {
   "cell_type": "markdown",
   "metadata": {},
   "source": [
    "Variaveis de apoio do TensorFlow"
   ]
  },
  {
   "cell_type": "code",
   "execution_count": 17,
   "metadata": {
    "collapsed": true
   },
   "outputs": [],
   "source": [
    "__imagetensor = __detectionboxes = __detectionscores = __detectionclasses = __numdetections = __category_index = None\n",
    "#ini-iPython\n",
    "#self-iPython __imagetensor\n",
    "#self-iPython __detectionboxes\n",
    "#self-iPython __detectionscores\n",
    "#self-iPython __detectionclasses\n",
    "#self-iPython __numdetections\n",
    "#self-iPython __category_index\n",
    "#end-iPython"
   ]
  },
  {
   "cell_type": "markdown",
   "metadata": {},
   "source": [
    "# __unzipNetwork\n",
    ".\n",
    "doxygen-iPython"
   ]
  },
  {
   "cell_type": "code",
   "execution_count": 18,
   "metadata": {
    "collapsed": true
   },
   "outputs": [],
   "source": [
    "#eself-iPython __unzipNetwork\n",
    "#edes-iPython def __unzipNetwork(self, name):\n",
    "def __unzipNetwork(name):\n",
    "    tar = tarfile.open('./Data/'+name+'.tar.gz')\n",
    "    tar.extractall(path=__EXTRACTION_DIRECTORY)\n",
    "    tar.close() #self-iPython __unzipNetwork"
   ]
  },
  {
   "cell_type": "code",
   "execution_count": 19,
   "metadata": {
    "collapsed": true
   },
   "outputs": [],
   "source": [
    "#ini-iPython"
   ]
  },
  {
   "cell_type": "markdown",
   "metadata": {},
   "source": [
    "## Teste __unzipNetwork"
   ]
  },
  {
   "cell_type": "code",
   "execution_count": 20,
   "metadata": {
    "collapsed": false
   },
   "outputs": [],
   "source": [
    "__unzipNetwork('rede')\n",
    "#end-iPython"
   ]
  },
  {
   "cell_type": "markdown",
   "metadata": {},
   "source": [
    "# instantiatingDNNVariables\n",
    "Used to create/instantiate the variables that will be used by DNN in detecting objects.\n",
    "doxygen-iPython"
   ]
  },
  {
   "cell_type": "code",
   "execution_count": 21,
   "metadata": {
    "collapsed": true
   },
   "outputs": [],
   "source": [
    "#eself-iPython __instantiatingDNNVariables\n",
    "#edes-iPython def __instantiatingDNNVariables(self):\n",
    "def __instantiatingDNNVariables( ):\n",
    "    global __numclasses, __detection_graph, __sess, __label #debug-iPython\n",
    "    global __imagetensor, __detectionboxes, __detectionscores, __detectionclasses, __numdetections, __category_index #debug-iPython\n",
    "    # Reading network file.\n",
    "    __detection_graph = tf.Graph()\n",
    "    with __detection_graph.as_default():\n",
    "        od_graph_def = tf.GraphDef()\n",
    "        with tf.gfile.GFile(__EXTRACTION_DIRECTORY+ '/' +__PATH_TO_CKPT, 'rb') as fid:\n",
    "            serialized_graph = fid.read()\n",
    "            od_graph_def.ParseFromString(serialized_graph)\n",
    "            tf.import_graph_def(od_graph_def, name='')\n",
    "\n",
    "    label_map = label_map_util.load_labelmap(__EXTRACTION_DIRECTORY+ '/' +__PATH_TO_LABELS)\n",
    "    \n",
    "    filelabel = str(label_map).replace('\\n', '').replace(' ', '').replace('{', '').replace('}', '').replace('\\\"', '\\'')\n",
    "    __label = {}\n",
    "    print 'Todas classes:', filelabel.split('item')[1:] #debug-iPython\n",
    "    print '\\n' #debug-iPython\n",
    "    for text in filelabel.split('item')[1:]:\n",
    "        print 'text:', text #debug-iPython\n",
    "        key = float(text.split(':')[-1])\n",
    "        print 'key:', key #debug-iPython\n",
    "        print 'name:', text.split('\\'')[1] #debug-iPython\n",
    "        name = text.split('\\'')[1]\n",
    "        __label[key] = name\n",
    "        print '\\n' #debug-iPython\n",
    "    print __label #debug-iPython\n",
    "    \n",
    "    if self._args.dnn == True:\n",
    "        __numclasses = str(label_map).count('id')\n",
    "        categories = label_map_util.convert_label_map_to_categories(label_map, max_num_classes=__numclasses, use_display_name=True)\n",
    "        __category_index = label_map_util.create_category_index(categories)\n",
    "\n",
    "    # Creating a section to run the detection.\n",
    "    with __detection_graph.as_default():\n",
    "        __sess = tf.Session(\n",
    "            graph=__detection_graph,\n",
    "            config=tf.ConfigProto(\n",
    "                intra_op_parallelism_threads=1,\n",
    "                inter_op_parallelism_threads=1\n",
    "            )\n",
    "        )\n",
    "        \n",
    "        __imagetensor = __detection_graph.get_tensor_by_name('image_tensor:0')\n",
    "        __detectionboxes = __detection_graph.get_tensor_by_name('detection_boxes:0')\n",
    "        __detectionscores = __detection_graph.get_tensor_by_name('detection_scores:0')\n",
    "        __detectionclasses = __detection_graph.get_tensor_by_name('detection_classes:0')\n",
    "        __numdetections = __detection_graph.get_tensor_by_name('num_detections:0') #self-iPython __instantiatingDNNVariables"
   ]
  },
  {
   "cell_type": "code",
   "execution_count": 22,
   "metadata": {
    "collapsed": false
   },
   "outputs": [],
   "source": [
    "#ini-iPython\n",
    "__label"
   ]
  },
  {
   "cell_type": "markdown",
   "metadata": {},
   "source": [
    "## Teste __instantiatingDNNVariables"
   ]
  },
  {
   "cell_type": "code",
   "execution_count": 23,
   "metadata": {
    "collapsed": false
   },
   "outputs": [
    {
     "name": "stdout",
     "output_type": "stream",
     "text": [
      "DNN - PARAMETERS section not found!\n",
      "Todas classes: [\"name:'ball'id:1\", \"name:'robot'id:2\"]\n",
      "\n",
      "\n",
      "text: name:'ball'id:1\n",
      "key: 1.0\n",
      "name: ball\n",
      "\n",
      "\n",
      "text: name:'robot'id:2\n",
      "key: 2.0\n",
      "name: robot\n",
      "\n",
      "\n",
      "{1.0: 'ball', 2.0: 'robot'}\n"
     ]
    },
    {
     "data": {
      "text/plain": [
       "(2,\n",
       " <tensorflow.python.framework.ops.Graph at 0x7ff2d4057110>,\n",
       " <tensorflow.python.client.session.Session at 0x7ff2d32b5290>)"
      ]
     },
     "execution_count": 23,
     "metadata": {},
     "output_type": "execute_result"
    }
   ],
   "source": [
    "self = BasicProcesses(a, 'DNN', 'Parameters')\n",
    "__instantiatingDNNVariables()\n",
    "__numclasses, __detection_graph, __sess"
   ]
  },
  {
   "cell_type": "code",
   "execution_count": 24,
   "metadata": {
    "collapsed": false
   },
   "outputs": [],
   "source": [
    "__numclasses = __detection_graph = __sess = self = None\n",
    "#end-iPython"
   ]
  },
  {
   "cell_type": "markdown",
   "metadata": {},
   "source": [
    "# trackbarThresholdMin\n",
    ".\n",
    "doxygen-iPython"
   ]
  },
  {
   "cell_type": "code",
   "execution_count": 25,
   "metadata": {
    "collapsed": true
   },
   "outputs": [],
   "source": [
    "#eself-iPython __trackbarThresholdMin\n",
    "#edes-iPython def __trackbarThresholdMin(self, value):\n",
    "def __trackbarThresholdMin(value):\n",
    "    __parameters['threshold_to_train_min'] = min(value/100.0, __parameters['threshold_to_train_max']-0.01)\n",
    "    cv2.setTrackbarPos('threshold_min', 'DNN - Parameters', int(__parameters['threshold_to_train_min']*100)) #self-iPython __trackbarThresholdMin"
   ]
  },
  {
   "cell_type": "markdown",
   "metadata": {},
   "source": [
    "# trackbarThresholdMax\n",
    ".\n",
    "doxygen-iPython"
   ]
  },
  {
   "cell_type": "code",
   "execution_count": 26,
   "metadata": {
    "collapsed": true
   },
   "outputs": [],
   "source": [
    "#eself-iPython __trackbarThresholdMax\n",
    "#edes-iPython def __trackbarThresholdMax(self, value):\n",
    "def __trackbarThresholdMax(value):\n",
    "    __parameters['threshold_to_train_max'] = max(value/100.0, __parameters['threshold_to_train_min']+0.01)\n",
    "    cv2.setTrackbarPos('threshold_max', 'DNN - Parameters', int(__parameters['threshold_to_train_max']*100)) #self-iPython __trackbarThresholdMax"
   ]
  },
  {
   "cell_type": "markdown",
   "metadata": {},
   "source": [
    "# Constructor Class\n",
    "doxygen-iPython"
   ]
  },
  {
   "cell_type": "code",
   "execution_count": 27,
   "metadata": {
    "collapsed": false
   },
   "outputs": [
    {
     "name": "stdout",
     "output_type": "stream",
     "text": [
      "DNN - PARAMETERS section not found!\n",
      "Todas classes: [\"name:'ball'id:1\", \"name:'robot'id:2\"]\n",
      "\n",
      "\n",
      "text: name:'ball'id:1\n",
      "key: 1.0\n",
      "name: ball\n",
      "\n",
      "\n",
      "text: name:'robot'id:2\n",
      "key: 2.0\n",
      "name: robot\n",
      "\n",
      "\n",
      "{1.0: 'ball', 2.0: 'robot'}\n"
     ]
    }
   ],
   "source": [
    "#des-iPython def __init__(self, a):\n",
    "#ini-tab -> Criando construtor\n",
    "#edes-iPython super(DNN, self).__init__(a, 'DNN', 'Parameters')\n",
    "self = BasicProcesses(a, 'DNN', 'Parameters')\n",
    "\n",
    "# Creating and updating default parameter values.\n",
    "__parameters = {\n",
    "    'network_name': 'rede',\n",
    "    'threshold_to_train_min': 0.2,\n",
    "    'threshold_to_train_max': 0.5,\n",
    "}\n",
    "__parameters = self._conf.readVariables(__parameters)\n",
    "\n",
    "# Creating neural network.\n",
    "__unzipNetwork(__parameters['network_name'])\n",
    "__instantiatingDNNVariables()\n",
    "\n",
    "if self._args.dnn == True:\n",
    "    cv2.namedWindow('DNN - Parameters')\n",
    "    cv2.createTrackbar(\n",
    "        'threshold_min',\n",
    "        'DNN - Parameters',\n",
    "        int(__parameters['threshold_to_train_min']*100),\n",
    "        100,\n",
    "        __trackbarThresholdMin\n",
    "    )\n",
    "    cv2.createTrackbar(\n",
    "        'threshold_max',\n",
    "        'DNN - Parameters',\n",
    "        int(__parameters['threshold_to_train_max']*100),\n",
    "        100,\n",
    "        __trackbarThresholdMax\n",
    "    )\n",
    "\n",
    "if self._args.train == True:\n",
    "    try:\n",
    "        os.makedirs(__DIRECTORY_TRAINING_IMAGES+'/imagens to classify')\n",
    "    except OSError:\n",
    "        pass\n",
    "    try:\n",
    "        os.makedirs(__DIRECTORY_TRAINING_IMAGES+'/annotations DNN')\n",
    "    except OSError:\n",
    "        pass"
   ]
  },
  {
   "cell_type": "code",
   "execution_count": 28,
   "metadata": {
    "collapsed": true
   },
   "outputs": [],
   "source": [
    "#end-tab -> Finalizando construtor"
   ]
  },
  {
   "cell_type": "code",
   "execution_count": 29,
   "metadata": {
    "collapsed": false
   },
   "outputs": [],
   "source": [
    "#ini-iPython"
   ]
  },
  {
   "cell_type": "markdown",
   "metadata": {},
   "source": [
    "## Teste construtor"
   ]
  },
  {
   "cell_type": "code",
   "execution_count": 30,
   "metadata": {
    "collapsed": false
   },
   "outputs": [
    {
     "data": {
      "text/plain": [
       "(2,\n",
       " <tensorflow.python.framework.ops.Graph at 0x7ff321654450>,\n",
       " <tensorflow.python.client.session.Session at 0x7ff318a33050>)"
      ]
     },
     "execution_count": 30,
     "metadata": {},
     "output_type": "execute_result"
    }
   ],
   "source": [
    "__numclasses, __detection_graph, __sess\n",
    "#end-iPython"
   ]
  },
  {
   "cell_type": "markdown",
   "metadata": {},
   "source": [
    "# detectDNN\n",
    ".\n",
    "doxygen-iPython"
   ]
  },
  {
   "cell_type": "code",
   "execution_count": 31,
   "metadata": {
    "collapsed": false
   },
   "outputs": [],
   "source": [
    "#eself-iPython __detectDNN\n",
    "#edes-iPython def __detectDNN(self, img):\n",
    "def __detectDNN(img):\n",
    "    global __sess #debug-iPython\n",
    "    # Actual detection.\n",
    "    image_np_expanded = np.expand_dims(img, axis=0)\n",
    "    (boxes, scores, classes, num) = __sess.run(\n",
    "        [__detectionboxes, __detectionscores, __detectionclasses, __numdetections],\n",
    "        feed_dict={__imagetensor: image_np_expanded}\n",
    "    )\n",
    "    \n",
    "    if self._args.dnn == True:\n",
    "        # Visualization of the results of a detection.\n",
    "        img = cv2.resize(\n",
    "            img,\n",
    "            None,\n",
    "            fx=380.0/img.shape[0],\n",
    "            fy=380.0/img.shape[0]\n",
    "        )\n",
    "        vis_util.visualize_boxes_and_labels_on_image_array(\n",
    "            img,\n",
    "            np.squeeze(boxes),\n",
    "            np.squeeze(classes).astype(np.int32),\n",
    "            np.squeeze(scores),\n",
    "            __category_index,\n",
    "            use_normalized_coordinates=True,\n",
    "            line_thickness=2,\n",
    "            min_score_thresh=__parameters['threshold_to_train_min'],\n",
    "        )\n",
    "    \n",
    "    # Creating DataFrame detection.\n",
    "    classes = classes.tolist()\n",
    "    for i in xrange(len(classes[0])):\n",
    "        classes[0][i] = __label[classes[0][i]]\n",
    "    \n",
    "    df = pd.DataFrame()\n",
    "    df['classes'] = classes[0]\n",
    "    df['scores'] = scores[0]\n",
    "    df['boxes'] = boxes[0].tolist()\n",
    "    \n",
    "    return df, img #self-iPython __detectDNN"
   ]
  },
  {
   "cell_type": "code",
   "execution_count": 32,
   "metadata": {
    "collapsed": false
   },
   "outputs": [],
   "source": [
    "#ini-iPython"
   ]
  },
  {
   "cell_type": "markdown",
   "metadata": {},
   "source": [
    "## Teste detectDNN"
   ]
  },
  {
   "cell_type": "code",
   "execution_count": 33,
   "metadata": {
    "collapsed": false
   },
   "outputs": [
    {
     "data": {
      "text/html": [
       "<div>\n",
       "<style>\n",
       "    .dataframe thead tr:only-child th {\n",
       "        text-align: right;\n",
       "    }\n",
       "\n",
       "    .dataframe thead th {\n",
       "        text-align: left;\n",
       "    }\n",
       "\n",
       "    .dataframe tbody tr th {\n",
       "        vertical-align: top;\n",
       "    }\n",
       "</style>\n",
       "<table border=\"1\" class=\"dataframe\">\n",
       "  <thead>\n",
       "    <tr style=\"text-align: right;\">\n",
       "      <th></th>\n",
       "      <th>classes</th>\n",
       "      <th>scores</th>\n",
       "      <th>boxes</th>\n",
       "    </tr>\n",
       "  </thead>\n",
       "  <tbody>\n",
       "    <tr>\n",
       "      <th>0</th>\n",
       "      <td>robot</td>\n",
       "      <td>0.983122</td>\n",
       "      <td>[0.304917991161, 0.896200180054, 0.56376618146...</td>\n",
       "    </tr>\n",
       "    <tr>\n",
       "      <th>1</th>\n",
       "      <td>robot</td>\n",
       "      <td>0.948715</td>\n",
       "      <td>[0.21794205904, 0.517218530178, 0.711023211479...</td>\n",
       "    </tr>\n",
       "    <tr>\n",
       "      <th>2</th>\n",
       "      <td>ball</td>\n",
       "      <td>0.870266</td>\n",
       "      <td>[0.449643224478, 0.364045917988, 0.54780566692...</td>\n",
       "    </tr>\n",
       "    <tr>\n",
       "      <th>3</th>\n",
       "      <td>robot</td>\n",
       "      <td>0.006161</td>\n",
       "      <td>[0.100663363934, 0.983142375946, 0.35967051982...</td>\n",
       "    </tr>\n",
       "    <tr>\n",
       "      <th>4</th>\n",
       "      <td>ball</td>\n",
       "      <td>0.005959</td>\n",
       "      <td>[0.300438791513, 0.892324090004, 0.56336617469...</td>\n",
       "    </tr>\n",
       "    <tr>\n",
       "      <th>5</th>\n",
       "      <td>robot</td>\n",
       "      <td>0.003821</td>\n",
       "      <td>[0.63169491291, 0.72311937809, 0.999579191208,...</td>\n",
       "    </tr>\n",
       "    <tr>\n",
       "      <th>6</th>\n",
       "      <td>robot</td>\n",
       "      <td>0.002172</td>\n",
       "      <td>[0.449643224478, 0.364045917988, 0.54780566692...</td>\n",
       "    </tr>\n",
       "    <tr>\n",
       "      <th>7</th>\n",
       "      <td>robot</td>\n",
       "      <td>0.002050</td>\n",
       "      <td>[0.217791080475, 0.00317733734846, 0.924235701...</td>\n",
       "    </tr>\n",
       "    <tr>\n",
       "      <th>8</th>\n",
       "      <td>robot</td>\n",
       "      <td>0.001631</td>\n",
       "      <td>[0.238770037889, 0.0111953765154, 0.9402588605...</td>\n",
       "    </tr>\n",
       "    <tr>\n",
       "      <th>9</th>\n",
       "      <td>robot</td>\n",
       "      <td>0.001551</td>\n",
       "      <td>[0.0119702517986, 0.00471384823322, 0.79037737...</td>\n",
       "    </tr>\n",
       "    <tr>\n",
       "      <th>10</th>\n",
       "      <td>robot</td>\n",
       "      <td>0.001429</td>\n",
       "      <td>[0.347117781639, 0.00618462078273, 0.883632540...</td>\n",
       "    </tr>\n",
       "    <tr>\n",
       "      <th>11</th>\n",
       "      <td>robot</td>\n",
       "      <td>0.001314</td>\n",
       "      <td>[0.534740924835, 0.00641742628068, 0.932696700...</td>\n",
       "    </tr>\n",
       "    <tr>\n",
       "      <th>12</th>\n",
       "      <td>robot</td>\n",
       "      <td>0.001237</td>\n",
       "      <td>[0.273410558701, 0.00417830422521, 0.672590196...</td>\n",
       "    </tr>\n",
       "    <tr>\n",
       "      <th>13</th>\n",
       "      <td>robot</td>\n",
       "      <td>0.001168</td>\n",
       "      <td>[0.443430542946, 0.0, 0.651297807693, 0.375997...</td>\n",
       "    </tr>\n",
       "    <tr>\n",
       "      <th>14</th>\n",
       "      <td>robot</td>\n",
       "      <td>0.001133</td>\n",
       "      <td>[0.121910989285, 0.991194367409, 0.36204636097...</td>\n",
       "    </tr>\n",
       "    <tr>\n",
       "      <th>15</th>\n",
       "      <td>robot</td>\n",
       "      <td>0.001110</td>\n",
       "      <td>[0.205086290836, 0.990216493607, 0.49282205104...</td>\n",
       "    </tr>\n",
       "    <tr>\n",
       "      <th>16</th>\n",
       "      <td>robot</td>\n",
       "      <td>0.000995</td>\n",
       "      <td>[0.0, 0.624783575535, 0.620788812637, 0.968829...</td>\n",
       "    </tr>\n",
       "    <tr>\n",
       "      <th>17</th>\n",
       "      <td>robot</td>\n",
       "      <td>0.000966</td>\n",
       "      <td>[0.427904069424, 0.730313003063, 0.96810585260...</td>\n",
       "    </tr>\n",
       "    <tr>\n",
       "      <th>18</th>\n",
       "      <td>robot</td>\n",
       "      <td>0.000926</td>\n",
       "      <td>[0.381978809834, 0.00470087397844, 0.766443550...</td>\n",
       "    </tr>\n",
       "    <tr>\n",
       "      <th>19</th>\n",
       "      <td>robot</td>\n",
       "      <td>0.000838</td>\n",
       "      <td>[0.300319314003, 0.0, 0.570597589016, 0.301908...</td>\n",
       "    </tr>\n",
       "    <tr>\n",
       "      <th>20</th>\n",
       "      <td>robot</td>\n",
       "      <td>0.000818</td>\n",
       "      <td>[0.683350622654, 0.387507081032, 0.99727183580...</td>\n",
       "    </tr>\n",
       "    <tr>\n",
       "      <th>21</th>\n",
       "      <td>robot</td>\n",
       "      <td>0.000790</td>\n",
       "      <td>[0.610657215118, 0.0105961803347, 0.9983986616...</td>\n",
       "    </tr>\n",
       "    <tr>\n",
       "      <th>22</th>\n",
       "      <td>robot</td>\n",
       "      <td>0.000781</td>\n",
       "      <td>[0.110241681337, 0.00571521371603, 0.769235014...</td>\n",
       "    </tr>\n",
       "    <tr>\n",
       "      <th>23</th>\n",
       "      <td>robot</td>\n",
       "      <td>0.000771</td>\n",
       "      <td>[0.200020760298, 0.00344384089112, 0.726150512...</td>\n",
       "    </tr>\n",
       "    <tr>\n",
       "      <th>24</th>\n",
       "      <td>robot</td>\n",
       "      <td>0.000751</td>\n",
       "      <td>[0.213604927063, 0.00086677656509, 0.623789250...</td>\n",
       "    </tr>\n",
       "    <tr>\n",
       "      <th>25</th>\n",
       "      <td>robot</td>\n",
       "      <td>0.000750</td>\n",
       "      <td>[0.632467985153, 0.00488522276282, 1.0, 0.0127...</td>\n",
       "    </tr>\n",
       "    <tr>\n",
       "      <th>26</th>\n",
       "      <td>robot</td>\n",
       "      <td>0.000643</td>\n",
       "      <td>[0.324371337891, 0.0400792360306, 0.4822866320...</td>\n",
       "    </tr>\n",
       "    <tr>\n",
       "      <th>27</th>\n",
       "      <td>ball</td>\n",
       "      <td>0.000624</td>\n",
       "      <td>[0.811292111874, 0.0, 0.994664490223, 0.575876...</td>\n",
       "    </tr>\n",
       "    <tr>\n",
       "      <th>28</th>\n",
       "      <td>robot</td>\n",
       "      <td>0.000624</td>\n",
       "      <td>[0.173907071352, 0.0, 0.993828654289, 0.533927...</td>\n",
       "    </tr>\n",
       "    <tr>\n",
       "      <th>29</th>\n",
       "      <td>robot</td>\n",
       "      <td>0.000597</td>\n",
       "      <td>[0.182326793671, 0.427813261747, 0.92221367359...</td>\n",
       "    </tr>\n",
       "    <tr>\n",
       "      <th>...</th>\n",
       "      <td>...</td>\n",
       "      <td>...</td>\n",
       "      <td>...</td>\n",
       "    </tr>\n",
       "    <tr>\n",
       "      <th>70</th>\n",
       "      <td>robot</td>\n",
       "      <td>0.000375</td>\n",
       "      <td>[0.382268726826, 0.15007892251, 0.512033343315...</td>\n",
       "    </tr>\n",
       "    <tr>\n",
       "      <th>71</th>\n",
       "      <td>robot</td>\n",
       "      <td>0.000371</td>\n",
       "      <td>[0.0460199564695, 0.562485575676, 0.4982588291...</td>\n",
       "    </tr>\n",
       "    <tr>\n",
       "      <th>72</th>\n",
       "      <td>ball</td>\n",
       "      <td>0.000371</td>\n",
       "      <td>[0.328482508659, 0.0, 0.548957407475, 0.360050...</td>\n",
       "    </tr>\n",
       "    <tr>\n",
       "      <th>73</th>\n",
       "      <td>robot</td>\n",
       "      <td>0.000361</td>\n",
       "      <td>[0.478435516357, 0.0, 1.0, 0.257981747389]</td>\n",
       "    </tr>\n",
       "    <tr>\n",
       "      <th>74</th>\n",
       "      <td>robot</td>\n",
       "      <td>0.000357</td>\n",
       "      <td>[0.135487154126, 0.207010790706, 0.34639191627...</td>\n",
       "    </tr>\n",
       "    <tr>\n",
       "      <th>75</th>\n",
       "      <td>ball</td>\n",
       "      <td>0.000355</td>\n",
       "      <td>[0.336294561625, 0.0, 0.750193834305, 0.216005...</td>\n",
       "    </tr>\n",
       "    <tr>\n",
       "      <th>76</th>\n",
       "      <td>robot</td>\n",
       "      <td>0.000355</td>\n",
       "      <td>[0.110833734274, 0.00340234441683, 0.508368015...</td>\n",
       "    </tr>\n",
       "    <tr>\n",
       "      <th>77</th>\n",
       "      <td>robot</td>\n",
       "      <td>0.000354</td>\n",
       "      <td>[0.189660638571, 0.667023062706, 0.74919188022...</td>\n",
       "    </tr>\n",
       "    <tr>\n",
       "      <th>78</th>\n",
       "      <td>robot</td>\n",
       "      <td>0.000352</td>\n",
       "      <td>[0.619842231274, 0.986896038055, 0.94250065088...</td>\n",
       "    </tr>\n",
       "    <tr>\n",
       "      <th>79</th>\n",
       "      <td>robot</td>\n",
       "      <td>0.000351</td>\n",
       "      <td>[0.363036304712, 0.930242717266, 0.54353892803...</td>\n",
       "    </tr>\n",
       "    <tr>\n",
       "      <th>80</th>\n",
       "      <td>robot</td>\n",
       "      <td>0.000348</td>\n",
       "      <td>[0.0, 0.0939202904701, 1.0, 0.770151555538]</td>\n",
       "    </tr>\n",
       "    <tr>\n",
       "      <th>81</th>\n",
       "      <td>robot</td>\n",
       "      <td>0.000345</td>\n",
       "      <td>[0.0723634213209, 0.00197130162269, 0.48947167...</td>\n",
       "    </tr>\n",
       "    <tr>\n",
       "      <th>82</th>\n",
       "      <td>robot</td>\n",
       "      <td>0.000341</td>\n",
       "      <td>[0.620316922665, 0.0, 1.0, 0.601840019226]</td>\n",
       "    </tr>\n",
       "    <tr>\n",
       "      <th>83</th>\n",
       "      <td>robot</td>\n",
       "      <td>0.000333</td>\n",
       "      <td>[0.862128913403, 0.556886672974, 1.0, 1.0]</td>\n",
       "    </tr>\n",
       "    <tr>\n",
       "      <th>84</th>\n",
       "      <td>ball</td>\n",
       "      <td>0.000331</td>\n",
       "      <td>[0.54514580965, 0.0, 0.765184223652, 0.4098414...</td>\n",
       "    </tr>\n",
       "    <tr>\n",
       "      <th>85</th>\n",
       "      <td>ball</td>\n",
       "      <td>0.000329</td>\n",
       "      <td>[0.628049612045, 0.0, 1.0, 0.388283789158]</td>\n",
       "    </tr>\n",
       "    <tr>\n",
       "      <th>86</th>\n",
       "      <td>robot</td>\n",
       "      <td>0.000327</td>\n",
       "      <td>[0.75444060564, 0.626296043396, 0.879651725292...</td>\n",
       "    </tr>\n",
       "    <tr>\n",
       "      <th>87</th>\n",
       "      <td>ball</td>\n",
       "      <td>0.000326</td>\n",
       "      <td>[0.688284754753, 0.268182814121, 0.89604198932...</td>\n",
       "    </tr>\n",
       "    <tr>\n",
       "      <th>88</th>\n",
       "      <td>robot</td>\n",
       "      <td>0.000323</td>\n",
       "      <td>[0.137378007174, 0.946886777878, 0.57745361328...</td>\n",
       "    </tr>\n",
       "    <tr>\n",
       "      <th>89</th>\n",
       "      <td>robot</td>\n",
       "      <td>0.000323</td>\n",
       "      <td>[0.568227827549, 0.984650313854, 0.84897452592...</td>\n",
       "    </tr>\n",
       "    <tr>\n",
       "      <th>90</th>\n",
       "      <td>robot</td>\n",
       "      <td>0.000321</td>\n",
       "      <td>[0.861231207848, 0.188025146723, 1.0, 0.860489...</td>\n",
       "    </tr>\n",
       "    <tr>\n",
       "      <th>91</th>\n",
       "      <td>robot</td>\n",
       "      <td>0.000320</td>\n",
       "      <td>[0.65228831768, 0.368965983391, 1.0, 0.5319839...</td>\n",
       "    </tr>\n",
       "    <tr>\n",
       "      <th>92</th>\n",
       "      <td>robot</td>\n",
       "      <td>0.000318</td>\n",
       "      <td>[0.0, 0.477527976036, 0.243880748749, 1.0]</td>\n",
       "    </tr>\n",
       "    <tr>\n",
       "      <th>93</th>\n",
       "      <td>robot</td>\n",
       "      <td>0.000316</td>\n",
       "      <td>[0.377252161503, 0.73475843668, 0.500643134117...</td>\n",
       "    </tr>\n",
       "    <tr>\n",
       "      <th>94</th>\n",
       "      <td>ball</td>\n",
       "      <td>0.000315</td>\n",
       "      <td>[0.304713726044, 0.0, 0.690070092678, 0.637463...</td>\n",
       "    </tr>\n",
       "    <tr>\n",
       "      <th>95</th>\n",
       "      <td>robot</td>\n",
       "      <td>0.000311</td>\n",
       "      <td>[0.76695305109, 0.83207911253, 0.877921879292,...</td>\n",
       "    </tr>\n",
       "    <tr>\n",
       "      <th>96</th>\n",
       "      <td>robot</td>\n",
       "      <td>0.000311</td>\n",
       "      <td>[0.637212693691, 0.698651373386, 0.97196656465...</td>\n",
       "    </tr>\n",
       "    <tr>\n",
       "      <th>97</th>\n",
       "      <td>robot</td>\n",
       "      <td>0.000310</td>\n",
       "      <td>[0.0857538580894, 0.967272937298, 0.4595631957...</td>\n",
       "    </tr>\n",
       "    <tr>\n",
       "      <th>98</th>\n",
       "      <td>robot</td>\n",
       "      <td>0.000309</td>\n",
       "      <td>[0.580210626125, 0.773940205574, 0.93456310033...</td>\n",
       "    </tr>\n",
       "    <tr>\n",
       "      <th>99</th>\n",
       "      <td>robot</td>\n",
       "      <td>0.000309</td>\n",
       "      <td>[0.466156840324, 0.831412911415, 0.99098694324...</td>\n",
       "    </tr>\n",
       "  </tbody>\n",
       "</table>\n",
       "<p>100 rows × 3 columns</p>\n",
       "</div>"
      ],
      "text/plain": [
       "   classes    scores                                              boxes\n",
       "0    robot  0.983122  [0.304917991161, 0.896200180054, 0.56376618146...\n",
       "1    robot  0.948715  [0.21794205904, 0.517218530178, 0.711023211479...\n",
       "2     ball  0.870266  [0.449643224478, 0.364045917988, 0.54780566692...\n",
       "3    robot  0.006161  [0.100663363934, 0.983142375946, 0.35967051982...\n",
       "4     ball  0.005959  [0.300438791513, 0.892324090004, 0.56336617469...\n",
       "5    robot  0.003821  [0.63169491291, 0.72311937809, 0.999579191208,...\n",
       "6    robot  0.002172  [0.449643224478, 0.364045917988, 0.54780566692...\n",
       "7    robot  0.002050  [0.217791080475, 0.00317733734846, 0.924235701...\n",
       "8    robot  0.001631  [0.238770037889, 0.0111953765154, 0.9402588605...\n",
       "9    robot  0.001551  [0.0119702517986, 0.00471384823322, 0.79037737...\n",
       "10   robot  0.001429  [0.347117781639, 0.00618462078273, 0.883632540...\n",
       "11   robot  0.001314  [0.534740924835, 0.00641742628068, 0.932696700...\n",
       "12   robot  0.001237  [0.273410558701, 0.00417830422521, 0.672590196...\n",
       "13   robot  0.001168  [0.443430542946, 0.0, 0.651297807693, 0.375997...\n",
       "14   robot  0.001133  [0.121910989285, 0.991194367409, 0.36204636097...\n",
       "15   robot  0.001110  [0.205086290836, 0.990216493607, 0.49282205104...\n",
       "16   robot  0.000995  [0.0, 0.624783575535, 0.620788812637, 0.968829...\n",
       "17   robot  0.000966  [0.427904069424, 0.730313003063, 0.96810585260...\n",
       "18   robot  0.000926  [0.381978809834, 0.00470087397844, 0.766443550...\n",
       "19   robot  0.000838  [0.300319314003, 0.0, 0.570597589016, 0.301908...\n",
       "20   robot  0.000818  [0.683350622654, 0.387507081032, 0.99727183580...\n",
       "21   robot  0.000790  [0.610657215118, 0.0105961803347, 0.9983986616...\n",
       "22   robot  0.000781  [0.110241681337, 0.00571521371603, 0.769235014...\n",
       "23   robot  0.000771  [0.200020760298, 0.00344384089112, 0.726150512...\n",
       "24   robot  0.000751  [0.213604927063, 0.00086677656509, 0.623789250...\n",
       "25   robot  0.000750  [0.632467985153, 0.00488522276282, 1.0, 0.0127...\n",
       "26   robot  0.000643  [0.324371337891, 0.0400792360306, 0.4822866320...\n",
       "27    ball  0.000624  [0.811292111874, 0.0, 0.994664490223, 0.575876...\n",
       "28   robot  0.000624  [0.173907071352, 0.0, 0.993828654289, 0.533927...\n",
       "29   robot  0.000597  [0.182326793671, 0.427813261747, 0.92221367359...\n",
       "..     ...       ...                                                ...\n",
       "70   robot  0.000375  [0.382268726826, 0.15007892251, 0.512033343315...\n",
       "71   robot  0.000371  [0.0460199564695, 0.562485575676, 0.4982588291...\n",
       "72    ball  0.000371  [0.328482508659, 0.0, 0.548957407475, 0.360050...\n",
       "73   robot  0.000361         [0.478435516357, 0.0, 1.0, 0.257981747389]\n",
       "74   robot  0.000357  [0.135487154126, 0.207010790706, 0.34639191627...\n",
       "75    ball  0.000355  [0.336294561625, 0.0, 0.750193834305, 0.216005...\n",
       "76   robot  0.000355  [0.110833734274, 0.00340234441683, 0.508368015...\n",
       "77   robot  0.000354  [0.189660638571, 0.667023062706, 0.74919188022...\n",
       "78   robot  0.000352  [0.619842231274, 0.986896038055, 0.94250065088...\n",
       "79   robot  0.000351  [0.363036304712, 0.930242717266, 0.54353892803...\n",
       "80   robot  0.000348        [0.0, 0.0939202904701, 1.0, 0.770151555538]\n",
       "81   robot  0.000345  [0.0723634213209, 0.00197130162269, 0.48947167...\n",
       "82   robot  0.000341         [0.620316922665, 0.0, 1.0, 0.601840019226]\n",
       "83   robot  0.000333         [0.862128913403, 0.556886672974, 1.0, 1.0]\n",
       "84    ball  0.000331  [0.54514580965, 0.0, 0.765184223652, 0.4098414...\n",
       "85    ball  0.000329         [0.628049612045, 0.0, 1.0, 0.388283789158]\n",
       "86   robot  0.000327  [0.75444060564, 0.626296043396, 0.879651725292...\n",
       "87    ball  0.000326  [0.688284754753, 0.268182814121, 0.89604198932...\n",
       "88   robot  0.000323  [0.137378007174, 0.946886777878, 0.57745361328...\n",
       "89   robot  0.000323  [0.568227827549, 0.984650313854, 0.84897452592...\n",
       "90   robot  0.000321  [0.861231207848, 0.188025146723, 1.0, 0.860489...\n",
       "91   robot  0.000320  [0.65228831768, 0.368965983391, 1.0, 0.5319839...\n",
       "92   robot  0.000318         [0.0, 0.477527976036, 0.243880748749, 1.0]\n",
       "93   robot  0.000316  [0.377252161503, 0.73475843668, 0.500643134117...\n",
       "94    ball  0.000315  [0.304713726044, 0.0, 0.690070092678, 0.637463...\n",
       "95   robot  0.000311  [0.76695305109, 0.83207911253, 0.877921879292,...\n",
       "96   robot  0.000311  [0.637212693691, 0.698651373386, 0.97196656465...\n",
       "97   robot  0.000310  [0.0857538580894, 0.967272937298, 0.4595631957...\n",
       "98   robot  0.000309  [0.580210626125, 0.773940205574, 0.93456310033...\n",
       "99   robot  0.000309  [0.466156840324, 0.831412911415, 0.99098694324...\n",
       "\n",
       "[100 rows x 3 columns]"
      ]
     },
     "execution_count": 33,
     "metadata": {},
     "output_type": "execute_result"
    }
   ],
   "source": [
    "img = cv2.imread('/home/vinicius/objectDetect_clear/Train/imagenstreino/frames0_040.jpg')\n",
    "df, img = __detectDNN(img)\n",
    "cv2.imshow('Frame 2', img)\n",
    "cv2.waitKey(0)\n",
    "cv2.destroyWindow('Frame 2')\n",
    "df\n",
    "#end-iPython"
   ]
  },
  {
   "cell_type": "markdown",
   "metadata": {},
   "source": [
    "# detect\n",
    ".\n",
    "doxygen-iPython"
   ]
  },
  {
   "cell_type": "code",
   "execution_count": 34,
   "metadata": {
    "collapsed": false
   },
   "outputs": [],
   "source": [
    "#eself-iPython detect\n",
    "#edes-iPython def detect(self, observation):\n",
    "def detect(observation):\n",
    "    if self._args.train == True:\n",
    "        image = observation['frame'].copy()\n",
    "    \n",
    "    objects, observation['frame'] = __detectDNN(observation['frame'])\n",
    "    \n",
    "    if self._args.dnn == True:\n",
    "        cv2.imshow('DNN - Parameters', observation['frame'])\n",
    "        if cv2.waitKey(1) == ord('q'):\n",
    "            raise VisionException(5, 'DNN')\n",
    "            \n",
    "    if self._args.train == True:\n",
    "        cv2.imwrite(__DIRECTORY_TRAINING_IMAGES+'/imagens to classify/'+'Robot-'+ time.strftime('%d-%m-%Y %H:%M:%S', time.localtime(int(observation['time']))) + str(round(observation['time'] - int(observation['time']), 2))[1:] +'.jpg', image)\n",
    "\n",
    "        if len(objects.scores) != 0:        \n",
    "            text = '<annotation>\\n\\t<folder>imagens to classify</folder>\\n\\t<filename>Robot-'+ time.strftime('%d-%m-%Y %H:%M:%S', time.localtime(int(observation['time']))) + str(round(observation['time'] - int(observation['time']), 2))[1:] +'.jpg</filename>\\n\\t<path>'+ os.getcwd() +'/'+ __DIRECTORY_TRAINING_IMAGES.split('/')[-1] +'/imagens to check/Robot-'+ time.strftime('%d-%m-%Y %H:%M:%S', time.localtime(int(observation['time']))) + str(round(observation['time'] - int(observation['time']), 2))[1:] +'.jpg</path>\\n\\t<source>\\n\\t\\t<database>Unknown</database>\\n\\t</source>\\n\\t<size>\\n\\t\\t<width>'+ str(image.shape[1]) +'</width>\\n\\t\\t<height>'+ str(image.shape[0]) +'</height>\\n\\t\\t<depth>'+ str(image.shape[2]) +'</depth>\\n\\t</size>\\n\\t<segmented>0</segmented>'\n",
    "\n",
    "            for classes, __, box in objects[(objects.scores > __parameters['threshold_to_train_min'])].values:\n",
    "                text += '\\n\\t<object>\\n\\t\\t<name>'+ classes+ '</name>\\n\\t\\t<pose>Unspecified</pose>\\n\\t\\t<truncated>0</truncated>\\n\\t\\t<difficult>0</difficult>\\n\\t\\t<bndbox>\\n\\t\\t\\t<xmin>'+ str(int(box[1]*image.shape[1])) +'</xmin>\\n\\t\\t\\t<ymin>'+ str(int(box[0]*image.shape[0])) +'</ymin>\\n\\t\\t\\t<xmax>'+ str(int(box[3]*image.shape[1])) +'</xmax>\\n\\t\\t\\t<ymax>'+ str(int(box[2]*image.shape[0])) +'</ymax>\\n\\t\\t</bndbox>\\n\\t</object>'\n",
    "\n",
    "            text += '\\n</annotation>'\n",
    "\n",
    "            f = open(__DIRECTORY_TRAINING_IMAGES + '/annotations DNN/' + 'Robot-'+ time.strftime('%d-%m-%Y %H:%M:%S', time.localtime(int(observation['time']))) + str(round(observation['time'] - int(observation['time']), 2))[1:] +'.xml', 'w')\n",
    "            f.write(text)\n",
    "            f.close()\n",
    "    \n",
    "    return objects[objects.scores > __parameters['threshold_to_train_max']] #self-iPython detect"
   ]
  },
  {
   "cell_type": "code",
   "execution_count": 35,
   "metadata": {
    "collapsed": true
   },
   "outputs": [],
   "source": [
    "#ini-iPython"
   ]
  },
  {
   "cell_type": "markdown",
   "metadata": {},
   "source": [
    "## Teste detect"
   ]
  },
  {
   "cell_type": "code",
   "execution_count": 36,
   "metadata": {
    "collapsed": false
   },
   "outputs": [
    {
     "name": "stdout",
     "output_type": "stream",
     "text": [
      "Solicitação encerramento de processo pela thread \n"
     ]
    }
   ],
   "source": [
    "observation = {}\n",
    "while True:\n",
    "    try:\n",
    "        observation['time'] = time.time()\n",
    "        observation['frame'] = cv2.imread('/home/vinicius/objectDetect_clear/Train/imagenstreino/frames0_040.jpg')\n",
    "#         observation['frame'][:,:,:] = 0\n",
    "        objects = detect(observation)\n",
    "    except VisionException as e:\n",
    "        break\n",
    "#end-iPython"
   ]
  },
  {
   "cell_type": "markdown",
   "metadata": {},
   "source": [
    "# finalize\n",
    ".\n",
    "doxygen-iPython"
   ]
  },
  {
   "cell_type": "code",
   "execution_count": 37,
   "metadata": {
    "collapsed": true
   },
   "outputs": [],
   "source": [
    "#eself-iPython finalize\n",
    "#edes-iPython def finalize(self):\n",
    "def finalize( ):\n",
    "    # Deleting extracted network\n",
    "    try:\n",
    "        shutil.rmtree('./Data/Rede')\n",
    "    except OSError:\n",
    "        pass\n",
    "    \n",
    "    if self._args.dnn == True:\n",
    "        cv2.destroyAllWindows()\n",
    "    \n",
    "    # Saving parameter values\n",
    "    self._end() #self-iPython finalize"
   ]
  },
  {
   "cell_type": "code",
   "execution_count": 38,
   "metadata": {
    "collapsed": true
   },
   "outputs": [],
   "source": [
    "#ini-iPython"
   ]
  },
  {
   "cell_type": "markdown",
   "metadata": {},
   "source": [
    "## Teste finalize"
   ]
  },
  {
   "cell_type": "code",
   "execution_count": 39,
   "metadata": {
    "collapsed": false
   },
   "outputs": [],
   "source": [
    "finalize()\n",
    "#end-iPython"
   ]
  },
  {
   "cell_type": "code",
   "execution_count": 40,
   "metadata": {
    "collapsed": false
   },
   "outputs": [],
   "source": [
    "#end-tab -> Finalizando classe"
   ]
  },
  {
   "cell_type": "code",
   "execution_count": 41,
   "metadata": {
    "collapsed": true
   },
   "outputs": [],
   "source": [
    "#ini-iPython"
   ]
  },
  {
   "cell_type": "markdown",
   "metadata": {},
   "source": [
    "# nova_variavel\n",
    ".\n",
    "doxygen-iPython"
   ]
  },
  {
   "cell_type": "code",
   "execution_count": 42,
   "metadata": {
    "collapsed": true
   },
   "outputs": [],
   "source": [
    "nova_variavel = None #self-iPython nova_variavel"
   ]
  },
  {
   "cell_type": "markdown",
   "metadata": {},
   "source": [
    "# nova_funcao\n",
    ".\n",
    "doxygen-iPython"
   ]
  },
  {
   "cell_type": "code",
   "execution_count": 43,
   "metadata": {
    "collapsed": true
   },
   "outputs": [],
   "source": [
    "# eself-iPython nova_funcao\n",
    "# edes-iPython def nova_funcao(self, variaveis_funcao):\n",
    "def nova_funcao(variaveis_funcao):\n",
    "    pass # self-iPython nova_funcao"
   ]
  },
  {
   "cell_type": "code",
   "execution_count": 44,
   "metadata": {
    "collapsed": true
   },
   "outputs": [],
   "source": [
    "#ini-iPython"
   ]
  },
  {
   "cell_type": "markdown",
   "metadata": {},
   "source": [
    "## Teste nova_funcao"
   ]
  },
  {
   "cell_type": "code",
   "execution_count": 45,
   "metadata": {
    "collapsed": false
   },
   "outputs": [],
   "source": [
    "\n",
    "#end-iPython"
   ]
  },
  {
   "cell_type": "code",
   "execution_count": 46,
   "metadata": {
    "collapsed": false
   },
   "outputs": [],
   "source": [
    "#end-iPython"
   ]
  }
 ],
 "metadata": {
  "kernelspec": {
   "display_name": "Python 2",
   "language": "python",
   "name": "python2"
  },
  "language_info": {
   "codemirror_mode": {
    "name": "ipython",
    "version": 2
   },
   "file_extension": ".py",
   "mimetype": "text/x-python",
   "name": "python",
   "nbconvert_exporter": "python",
   "pygments_lexer": "ipython2",
   "version": "2.7.6"
  }
 },
 "nbformat": 4,
 "nbformat_minor": 2
}
