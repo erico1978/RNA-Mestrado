{
 "cells": [
  {
   "cell_type": "markdown",
   "metadata": {},
   "source": [
    "# Testes com QRCode"
   ]
  },
  {
   "cell_type": "code",
   "execution_count": 1,
   "metadata": {},
   "outputs": [
    {
     "name": "stdout",
     "output_type": "stream",
     "text": [
      "OpenCV 3.2.0-dev\n"
     ]
    }
   ],
   "source": [
    "import cv2; print \"OpenCV\", cv2.__version__\n",
    "import matplotlib.pyplot as plt\n",
    "import numpy as np\n",
    "%matplotlib inline"
   ]
  },
  {
   "cell_type": "code",
   "execution_count": 2,
   "metadata": {
    "collapsed": true
   },
   "outputs": [],
   "source": [
    "#ini-iPython\n",
    "def imshow(image):\n",
    "    plt.imshow(cv2.cvtColor(image, cv2.COLOR_BGR2RGB))\n",
    "    plt.show()"
   ]
  },
  {
   "cell_type": "markdown",
   "metadata": {},
   "source": [
    "## Lendo imagem da câmera"
   ]
  },
  {
   "cell_type": "code",
   "execution_count": null,
   "metadata": {},
   "outputs": [],
   "source": [
    "video_capture = cv2.VideoCapture(0)\n",
    "\n",
    "while True:\n",
    "    ret, frame = video_capture.read()\n",
    "\n",
    "    cv2.imshow('Video', frame)\n",
    "\n",
    "    if cv2.waitKey(1) & 0xFF == ord('q'):\n",
    "        break\n",
    "\n",
    "video_capture.release()\n",
    "cv2.destroyAllWindows()"
   ]
  },
  {
   "cell_type": "markdown",
   "metadata": {},
   "source": [
    "## Lendo QRCode do arquivo"
   ]
  },
  {
   "cell_type": "code",
   "execution_count": 3,
   "metadata": {
    "collapsed": true
   },
   "outputs": [],
   "source": [
    "frame = cv2.imread('/home/vinicius/Dropbox/Projeto Mestrado/Codigos/Vision/iPython/Testes/qrcode.png')"
   ]
  },
  {
   "cell_type": "markdown",
   "metadata": {},
   "source": [
    "## Exibindo imagem"
   ]
  },
  {
   "cell_type": "code",
   "execution_count": 4,
   "metadata": {},
   "outputs": [
    {
     "data": {
      "image/png": "[encoded data removed]",
      "text/plain": [
       "<matplotlib.figure.Figure at 0x7f65d43da2d0>"
      ]
     },
     "metadata": {},
     "output_type": "display_data"
    }
   ],
   "source": [
    "imshow(frame)\n",
    "#end-iPython"
   ]
  },
  {
   "cell_type": "code",
   "execution_count": 57,
   "metadata": {},
   "outputs": [
    {
     "data": {
      "image/png": "[encoded data removed]",
      "text/plain": [
       "<matplotlib.figure.Figure at 0x7f659a529bd0>"
      ]
     },
     "metadata": {},
     "output_type": "display_data"
    },
    {
     "name": "stdout",
     "output_type": "stream",
     "text": [
      "[array([[[  9, 215]],\n",
      "\n",
      "       [[  7, 217]],\n",
      "\n",
      "       [[  7, 270]],\n",
      "\n",
      "       [[  8, 271]],\n",
      "\n",
      "       [[ 63, 271]],\n",
      "\n",
      "       [[ 63, 216]],\n",
      "\n",
      "       [[ 62, 215]]], dtype=int32), array([[[217,   7]],\n",
      "\n",
      "       [[215,   9]],\n",
      "\n",
      "       [[215,  62]],\n",
      "\n",
      "       [[216,  63]],\n",
      "\n",
      "       [[271,  63]],\n",
      "\n",
      "       [[271,   8]],\n",
      "\n",
      "       [[270,   7]]], dtype=int32), array([[[ 9,  7]],\n",
      "\n",
      "       [[ 7,  9]],\n",
      "\n",
      "       [[ 7, 62]],\n",
      "\n",
      "       [[ 8, 63]],\n",
      "\n",
      "       [[63, 63]],\n",
      "\n",
      "       [[63,  8]],\n",
      "\n",
      "       [[62,  7]]], dtype=int32)]\n"
     ]
    }
   ],
   "source": [
    "img = frame.copy() #debug-iPython\n",
    "def qrDetector(img):\n",
    "    gray = cv2.cvtColor(img, cv2.COLOR_BGR2GRAY)\n",
    "    edges = cv2.Canny(gray,150,300,apertureSize = 3)\n",
    "    im2, contours, hierarchy = cv2.findContours(edges,cv2.RETR_TREE,cv2.CHAIN_APPROX_SIMPLE)\n",
    "\n",
    "    if len(contours):\n",
    "        hierarchy = hierarchy[0]\n",
    "    for i in range(len(contours)):\n",
    "        k = i\n",
    "        c = 0\n",
    "        while hierarchy[k][2] != -1:\n",
    "            k = hierarchy[k][2]\n",
    "            c = c + 1\n",
    "        if hierarchy[k][2] != -1:\n",
    "            c = c + 1\n",
    "        if c >= 5:\n",
    "            yield contours[i]\n",
    "\n",
    "#ini-iPython\n",
    "contours = qrDetector(img)\n",
    "marks = []\n",
    "for c in contours:\n",
    "    marks.append(c)\n",
    "\n",
    "img = frame.copy()\n",
    "for points in marks:\n",
    "    img = cv2.drawContours(img, [points], 0, (0,255,0), 3)\n",
    "imshow(img)\n",
    "\n",
    "print marks\n",
    "#end-iPython"
   ]
  },
  {
   "cell_type": "code",
   "execution_count": 8,
   "metadata": {},
   "outputs": [
    {
     "name": "stdout",
     "output_type": "stream",
     "text": [
      "[[35, 243], [243, 35], [35, 35]]\n"
     ]
    },
    {
     "data": {
      "image/png": "[encoded data removed]",
      "text/plain": [
       "<matplotlib.figure.Figure at 0x7f659a6c2490>"
      ]
     },
     "metadata": {},
     "output_type": "display_data"
    }
   ],
   "source": [
    "def calculateCenter(marks):\n",
    "    centers = []\n",
    "\n",
    "    for points in marks:\n",
    "        M = cv2.moments(points)\n",
    "        cX = int(M[\"m10\"] / M[\"m00\"])\n",
    "        cY = int(M[\"m01\"] / M[\"m00\"])\n",
    "        centers.append([cX, cY])\n",
    "\n",
    "    return centers\n",
    "\n",
    "#ini-iPython\n",
    "img = frame.copy()\n",
    "\n",
    "print calculateCenter(marks)\n",
    "\n",
    "for x,y in centers:\n",
    "    img = cv2.circle(img,(x,y), 1,(0,0,255),3)\n",
    "\n",
    "imshow(img)\n",
    "#end-iPython"
   ]
  },
  {
   "cell_type": "code",
   "execution_count": 60,
   "metadata": {},
   "outputs": [
    {
     "name": "stdout",
     "output_type": "stream",
     "text": [
      "0 1\n",
      "0 2\n",
      "1 2\n",
      "Valores: 0 1 294.156420974\n",
      "Normal\n",
      "[1, 2, 0]\n"
     ]
    }
   ],
   "source": [
    "#des-iPython def position(centers):\n",
    "#ini-tab\n",
    "dist = -np.inf\n",
    "\n",
    "for x in range(len(centers)):\n",
    "    for y in range(x+1, len(centers)):\n",
    "        if np.linalg.norm(np.array(centers[x])-np.array(centers[y])) > dist:\n",
    "            dist = np.linalg.norm(np.array(centers[x])-np.array(centers[y]))\n",
    "            points1 = x\n",
    "            points3 = y\n",
    "            \n",
    "print 'Valores:', points1, points3, dist #debug-iPython\n",
    "\n",
    "center = np.mean(\n",
    "    np.array([\n",
    "        centers[points1],\n",
    "        centers[points3],\n",
    "    ]),\n",
    "    axis = 0\n",
    ")\n",
    "\n",
    "for x in range(len(centers)):\n",
    "    if x != points1 and x != points3:\n",
    "        points2 = x\n",
    "\n",
    "if centers[points2][0] <= center[0] and centers[points2][1] <= center[1]:\n",
    "    print \"Normal\" #debug-iPython\n",
    "    if centers[points1][0] <= center[0] and centers[points1][1] <= center[1]:\n",
    "        #edes-iPython return [points1, points2, points3]\n",
    "        print [points1, points2, points3]\n",
    "    else:\n",
    "        #edes-iPython return [points3, points2, points1]\n",
    "        print [points3, points2, points1]\n",
    "elif centers[points2][0] <= center[0] and centers[points2][1] > center[1]:\n",
    "    print \"Cabeca pra baixo\" #debug-iPython\n",
    "elif centers[points2][0] > center[0] and centers[points2][1] > center[1]:\n",
    "    print \"Cabeça pra baixo e invertido\" #debug-iPython\n",
    "elif centers[points2][0] > center[0] and centers[points2][1] <= center[1]:\n",
    "    print \"Invertido\" #debug-iPython\n",
    "#end-tab"
   ]
  },
  {
   "cell_type": "code",
   "execution_count": 61,
   "metadata": {},
   "outputs": [],
   "source": [
    "position = [1,2,0]\n"
   ]
  },
  {
   "cell_type": "markdown",
   "metadata": {
    "collapsed": true
   },
   "source": [
    "---- Main Code ----"
   ]
  },
  {
   "cell_type": "markdown",
   "metadata": {},
   "source": [
    "Acessando a camera\n",
    "doxygen-iPython"
   ]
  },
  {
   "cell_type": "code",
   "execution_count": null,
   "metadata": {},
   "outputs": [],
   "source": [
    "video_capture = cv2.VideoCapture(0)"
   ]
  },
  {
   "cell_type": "markdown",
   "metadata": {},
   "source": [
    "Main loop"
   ]
  },
  {
   "cell_type": "code",
   "execution_count": null,
   "metadata": {},
   "outputs": [],
   "source": [
    "#des-iPython while True:\n",
    "#ini-tab\n",
    "ret, frame = video_capture.read()\n",
    "\n",
    "#edes-iPython cv2.imshow('Video', frame) #Displaying original video\n",
    "imshow(frame)\n",
    "\n",
    "contours = qrDetector(frame)\n",
    "\n",
    "marks = []\n",
    "for c in contours:\n",
    "    marks.append(c)\n",
    "\n",
    "for points in marks:\n",
    "    frame = cv2.drawContours(frame, [points], 0, (0,255,0), 3)\n",
    "\n",
    "#edes-iPython cv2.imshow('Fiducial points', frame) #Displaying fiducial points\n",
    "imshow(frame)\n",
    "\n",
    "#des-iPython if cv2.waitKey(1) & 0xFF == ord('q'):\n",
    "#des-iPython     break\n",
    "#end-tab"
   ]
  },
  {
   "cell_type": "markdown",
   "metadata": {},
   "source": [
    "Finishing processes"
   ]
  },
  {
   "cell_type": "code",
   "execution_count": null,
   "metadata": {},
   "outputs": [],
   "source": [
    "video_capture.release()\n",
    "cv2.destroyAllWindows()"
   ]
  },
  {
   "cell_type": "code",
   "execution_count": null,
   "metadata": {
    "collapsed": true
   },
   "outputs": [],
   "source": []
  },
  {
   "cell_type": "code",
   "execution_count": null,
   "metadata": {
    "collapsed": true
   },
   "outputs": [],
   "source": []
  },
  {
   "cell_type": "code",
   "execution_count": null,
   "metadata": {
    "collapsed": true
   },
   "outputs": [],
   "source": []
  }
 ],
 "metadata": {
  "kernelspec": {
   "display_name": "Python 2",
   "language": "python",
   "name": "python2"
  },
  "language_info": {
   "codemirror_mode": {
    "name": "ipython",
    "version": 2
   },
   "file_extension": ".py",
   "mimetype": "text/x-python",
   "name": "python",
   "nbconvert_exporter": "python",
   "pygments_lexer": "ipython2",
   "version": "2.7.12"
  }
 },
 "nbformat": 4,
 "nbformat_minor": 1
}
