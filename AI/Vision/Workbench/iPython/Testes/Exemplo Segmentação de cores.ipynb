{
 "cells": [
  {
   "cell_type": "markdown",
   "metadata": {},
   "source": [
    "# Exemplo Segmentação de cores\n",
    "## Imports"
   ]
  },
  {
   "cell_type": "code",
   "execution_count": null,
   "metadata": {
    "collapsed": false
   },
   "outputs": [],
   "source": [
    "import cv2\n",
    "import matplotlib.pyplot as plt\n",
    "import numpy as np\n",
    "%matplotlib inline"
   ]
  },
  {
   "cell_type": "markdown",
   "metadata": {},
   "source": [
    "## Lendo imagem"
   ]
  },
  {
   "cell_type": "code",
   "execution_count": null,
   "metadata": {
    "collapsed": false
   },
   "outputs": [],
   "source": [
    "image = cv2.imread('../../Imagens/RGB.png')\n",
    "plt.imshow(cv2.cvtColor(image, cv2.COLOR_BGR2RGB))\n",
    "plt.show()"
   ]
  },
  {
   "cell_type": "markdown",
   "metadata": {},
   "source": [
    "## Segmentando apenas a cor vermelha"
   ]
  },
  {
   "cell_type": "code",
   "execution_count": null,
   "metadata": {
    "collapsed": false
   },
   "outputs": [],
   "source": [
    "# Limites de segmentação\n",
    "lower = np.array([0, 0, 0], dtype = \"uint8\")\n",
    "upper = np.array([0, 0, 255], dtype = \"uint8\")\n",
    "\n",
    "mask = cv2.inRange(image, lower, upper) # Gerando máscara\n",
    "output = cv2.bitwise_and(image, image, mask = mask) # Aplicando máscara\n",
    "\n",
    "cv2.imwrite('../../Imagens/SegmentationRed.png', output) # Salvando arquivo\n",
    "\n",
    "plt.imshow(cv2.cvtColor(output, cv2.COLOR_BGR2RGB))\n",
    "plt.show()"
   ]
  },
  {
   "cell_type": "markdown",
   "metadata": {},
   "source": [
    "## Segmentando cor vermelha e derivadas"
   ]
  },
  {
   "cell_type": "code",
   "execution_count": null,
   "metadata": {
    "collapsed": false
   },
   "outputs": [],
   "source": [
    "# Limites de segmentação\n",
    "lower = np.array([0, 0, 255], dtype = \"uint8\")\n",
    "upper = np.array([255, 255, 255], dtype = \"uint8\")\n",
    "\n",
    "mask = cv2.inRange(image, lower, upper) # Gerando máscara\n",
    "output = cv2.bitwise_and(image, image, mask = mask) # Aplicando máscara\n",
    "\n",
    "cv2.imwrite('../../Imagens/SegmentationRedandComponets.png', output) # Salvando arquivo\n",
    "\n",
    "plt.imshow(cv2.cvtColor(output, cv2.COLOR_BGR2RGB))\n",
    "plt.show()"
   ]
  }
 ],
 "metadata": {
  "kernelspec": {
   "display_name": "Python 2",
   "language": "python",
   "name": "python2"
  },
  "language_info": {
   "codemirror_mode": {
    "name": "ipython",
    "version": 2
   },
   "file_extension": ".py",
   "mimetype": "text/x-python",
   "name": "python",
   "nbconvert_exporter": "python",
   "pygments_lexer": "ipython2",
   "version": "2.7.6"
  }
 },
 "nbformat": 4,
 "nbformat_minor": 1
}
