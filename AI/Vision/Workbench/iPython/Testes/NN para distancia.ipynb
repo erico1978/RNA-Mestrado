{
 "cells": [
  {
   "cell_type": "code",
   "execution_count": 1,
   "metadata": {
    "collapsed": true
   },
   "outputs": [],
   "source": [
    "import numpy as np\n",
    "import sklearn.neural_network as nn\n",
    "from sklearn.externals import joblib"
   ]
  },
  {
   "cell_type": "code",
   "execution_count": 2,
   "metadata": {
    "collapsed": false
   },
   "outputs": [
    {
     "data": {
      "text/plain": [
       "MLPRegressor(activation='relu', alpha=1e-05, batch_size='auto', beta_1=0.9,\n",
       "       beta_2=0.999, early_stopping=False, epsilon=1e-08,\n",
       "       hidden_layer_sizes=(20, 40, 43, 40, 20, 20),\n",
       "       learning_rate='constant', learning_rate_init=0.001, max_iter=10000,\n",
       "       momentum=0.9, nesterovs_momentum=True, power_t=0.5, random_state=1,\n",
       "       shuffle=True, solver='lbfgs', tol=0.0001, validation_fraction=0.1,\n",
       "       verbose=False, warm_start=False)"
      ]
     },
     "execution_count": 2,
     "metadata": {},
     "output_type": "execute_result"
    }
   ],
   "source": [
    "net = nn.MLPRegressor(solver='lbfgs', alpha=1e-5,\n",
    "                hidden_layer_sizes=(20, 40, 43, 40, 20, 20), random_state=1, max_iter=10000)\n",
    "net"
   ]
  },
  {
   "cell_type": "code",
   "execution_count": 3,
   "metadata": {
    "collapsed": false
   },
   "outputs": [
    {
     "name": "stderr",
     "output_type": "stream",
     "text": [
      "/usr/local/lib/python2.7/dist-packages/sklearn/neural_network/multilayer_perceptron.py:1266: DataConversionWarning: A column-vector y was passed when a 1d array was expected. Please change the shape of y to (n_samples, ), for example using ravel().\n",
      "  y = column_or_1d(y, warn=True)\n"
     ]
    },
    {
     "name": "stdout",
     "output_type": "stream",
     "text": [
      "Min: 0.0273688004183 cm\n",
      "Media: 1.99274120858 cm\n",
      "Max: 28.7372284755 cm\n"
     ]
    }
   ],
   "source": [
    "lista = [\n",
    "['/home/vinicius/Dropbox/Projeto Mestrado/Codigos/RoboFEI-HT_Debug/AI/Vision/Dist/mBack1.txt', 60.0, 3.96, 2.7, 3.48],\n",
    "['/home/vinicius/Dropbox/Projeto Mestrado/Codigos/RoboFEI-HT_Debug/AI/Vision/Dist/mBack2.txt', 60.0, 3.96, 2.7, 3.48],\n",
    "['/home/vinicius/Dropbox/Projeto Mestrado/Codigos/RoboFEI-HT_Debug/AI/Vision/Dist/mBack3.txt', 59.0, 3.96, 2.7, 3.48],\n",
    "['/home/vinicius/Dropbox/Projeto Mestrado/Codigos/RoboFEI-HT_Debug/AI/Vision/Dist/mBack4.txt', 62.0, 3.96, 2.7, 3.48],\n",
    "['/home/vinicius/Dropbox/Projeto Mestrado/Codigos/RoboFEI-HT_Debug/AI/Vision/Dist/mBack5.txt', 56.0, 3.96, 2.7, 3.48],\n",
    "['/home/vinicius/Dropbox/Projeto Mestrado/Codigos/RoboFEI-HT_Debug/AI/Vision/Dist/mFront1.txt', 60.0, 3.96, 2.7, 1.94],\n",
    "]\n",
    "\n",
    "data_in_all = [[0]]\n",
    "data_out_all = [[0]]\n",
    "\n",
    "for name, Tmax, po, p, dist_stop in lista:\n",
    "    data = np.loadtxt(name, delimiter = ', ')\n",
    "\n",
    "    robot_mov = data[data[:,1] != 0][:,1:]\n",
    "\n",
    "    for i in xrange(len(robot_mov)):\n",
    "        if robot_mov[i,1] < Tmax/2:\n",
    "            robot_mov[i,1] = po + (2*robot_mov[i,1]*(p - po))/Tmax\n",
    "        else:\n",
    "            robot_mov[i,1] = p + (2*(robot_mov[i,1] - 30)*(po - p))/Tmax\n",
    "\n",
    "    data_in = np.transpose([robot_mov[:,0]])\n",
    "    data_out = np.transpose([robot_mov[:,1]])\n",
    "\n",
    "    data_in = np.concatenate((data_in, np.transpose([data[data[:,0] != 0][:,0]])), axis=0)\n",
    "\n",
    "    data_out = np.concatenate((data_out, np.transpose([np.ones(len(data[data[:,0] != 0][:,0]))*dist_stop])), axis=0)\n",
    "    \n",
    "    data_in_all = np.concatenate((data_in_all, data_in), axis=0)\n",
    "\n",
    "    data_out_all = np.concatenate((data_out_all, data_out), axis=0)\n",
    "\n",
    "net.fit(data_in_all[1:,:], data_out_all[1:,:])\n",
    "\n",
    "print \"Min:\", min(abs(net.predict(data_in)-np.transpose(data_out)[0]))*100, \"cm\"\n",
    "print \"Media:\", np.mean(abs(net.predict(data_in)-np.transpose(data_out)[0]))*100, \"cm\"\n",
    "print \"Max:\", max(abs(net.predict(data_in)-np.transpose(data_out)[0]))*100, \"cm\""
   ]
  },
  {
   "cell_type": "code",
   "execution_count": 4,
   "metadata": {
    "collapsed": false
   },
   "outputs": [
    {
     "name": "stdout",
     "output_type": "stream",
     "text": [
      "[ 3.45512607]\n"
     ]
    }
   ],
   "source": [
    "# save the model to disk\n",
    "filename = 'finalized_model.sav'\n",
    "joblib.dump(net, filename)\n",
    " \n",
    "# some time later...\n",
    " \n",
    "# load the model from disk\n",
    "loaded_model = joblib.load(filename)\n",
    "result = loaded_model.predict(0.17)\n",
    "print(result)"
   ]
  },
  {
   "cell_type": "code",
   "execution_count": 5,
   "metadata": {
    "collapsed": false
   },
   "outputs": [
    {
     "data": {
      "text/plain": [
       "791"
      ]
     },
     "execution_count": 5,
     "metadata": {},
     "output_type": "execute_result"
    }
   ],
   "source": [
    "len(data_in_all)"
   ]
  },
  {
   "cell_type": "code",
   "execution_count": null,
   "metadata": {
    "collapsed": false
   },
   "outputs": [],
   "source": []
  },
  {
   "cell_type": "code",
   "execution_count": null,
   "metadata": {
    "collapsed": true
   },
   "outputs": [],
   "source": []
  }
 ],
 "metadata": {
  "kernelspec": {
   "display_name": "Python 2",
   "language": "python",
   "name": "python2"
  },
  "language_info": {
   "codemirror_mode": {
    "name": "ipython",
    "version": 2
   },
   "file_extension": ".py",
   "mimetype": "text/x-python",
   "name": "python",
   "nbconvert_exporter": "python",
   "pygments_lexer": "ipython2",
   "version": "2.7.6"
  }
 },
 "nbformat": 4,
 "nbformat_minor": 1
}
