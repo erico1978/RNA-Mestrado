{
 "cells": [
  {
   "cell_type": "markdown",
   "metadata": {
    "collapsed": true
   },
   "source": [
    "****************************************************************************\n",
    "* @file: check.py\n",
    "* @project: ROBOFEI-HT - FEI 😛\n",
    "* @author: Vinicius Nicassio Ferreira\n",
    "* @version: V0.0.1\n",
    "* @created: 23/10/2017\n",
    "* @e-mail: vinicius.nicassio@gmail.com\n",
    "* @brief: Class check\n",
    "****************************************************************************"
   ]
  },
  {
   "cell_type": "code",
   "execution_count": 1,
   "metadata": {
    "collapsed": true
   },
   "outputs": [],
   "source": [
    "#ini-iPython"
   ]
  },
  {
   "cell_type": "markdown",
   "metadata": {},
   "source": [
    "# Executando no diretório principal"
   ]
  },
  {
   "cell_type": "code",
   "execution_count": 2,
   "metadata": {
    "collapsed": true
   },
   "outputs": [],
   "source": [
    "import os\n",
    "os.chdir('../../') #Executando na pasta Visual_Memory\n",
    "# os.system(\"cd Workbench/ && ./zerar.sh && cd ..\")\n",
    "# os.system(\"cd Workbench/iPython/ && ./convertendo.sh && cd ../../\")\n",
    "import sys\n",
    "sys.path.append('./include')\n",
    "sys.path.append('./src')\n",
    "sys.path.append('./Workbench/iPython')\n",
    "#end-iPython"
   ]
  },
  {
   "cell_type": "markdown",
   "metadata": {},
   "source": [
    "---- Imports ----"
   ]
  },
  {
   "cell_type": "code",
   "execution_count": 3,
   "metadata": {
    "collapsed": true
   },
   "outputs": [],
   "source": [
    "# Libraries to be used.\n",
    "import time\n",
    "import sys\n",
    "import os\n",
    "#des-iPython os.chdir('../')\n",
    "#des-iPython sys.path.append('./include')\n",
    "#des-iPython sys.path.append('./src')"
   ]
  },
  {
   "cell_type": "code",
   "execution_count": 5,
   "metadata": {
    "collapsed": false
   },
   "outputs": [
    {
     "name": "stdout",
     "output_type": "stream",
     "text": [
      "Deseja checar/marcar mais 5 imagens ? [S/N]: s\n",
      "As marcações foram finalizadas ? [S/N]: n\n"
     ]
    }
   ],
   "source": [
    "key = \"S\"\n",
    "while key.upper() == \"S\":\n",
    "    # Selecionando arquivos\n",
    "    xmls = [i.rsplit(\".\", 1)[0] for i in os.listdir(\"./Train/annotations DNN\")][:10]\n",
    "    if xmls == []:\n",
    "        print \"Nenhuma imagens pré-classificada pela DNN\"\n",
    "        time.sleep(1)\n",
    "        xmls = [i.rsplit(\".\", 1)[0] for i in os.listdir(\"./Train/imagens to classify\")][:10]\n",
    "        if xmls == []:\n",
    "            print \"Não tem mais imagens para serem marcadas\"\n",
    "            time.sleep(1)\n",
    "            break\n",
    "    \n",
    "    # Organizando arquivos nas pastas\n",
    "    os.system(\"mkdir ./Train/imagens\\ to\\ check\")\n",
    "    for files in xmls:\n",
    "        os.system(\"mv ./Train/imagens\\ to\\ classify/\"+files.replace(\":\", \"\\\\:\").replace(\" \", \"\\\\ \")+\".jpg ./Train/imagens\\ to\\ check\")\n",
    "    \n",
    "    # Abrindo programa de marcação\n",
    "    os.system(\"clear\")\n",
    "    os.system(\"~/labelImg/labelImg.py $(pwd)/Train/imagens\\ to\\ check/ $(pwd)/Train/annotations\\ DNN/\")\n",
    "    \n",
    "    os.system(\"clear\")\n",
    "    key = raw_input(\"As marcações foram finalizadas ? [S/N]: \")\n",
    "    if key.upper() == \"N\":\n",
    "        os.system(\"mv ./Train/imagens\\ to\\ check/* ./Train/imagens\\ to\\ classify\")\n",
    "        break\n",
    "    \n",
    "    # Finalizando marcações e separando classificações\n",
    "    os.system(\"mkdir ./Train/annotations\")\n",
    "    os.system(\"mkdir ./Train/imagensTrain\")\n",
    "    os.system(\"mv ./Train/imagens\\ to\\ check/* ./Train/imagensTrain\")\n",
    "    for files in xmls:\n",
    "        os.system(\"mv ./Train/annotations\\ DNN/\"+files.replace(\":\", \"\\\\:\").replace(\" \", \"\\\\ \")+\".xml ./Train/annotations\")\n",
    "        os.system('sed -i \"s/imagens to check/imagensTrain/g\" ./Train/annotations/'+files.replace(\":\", \"\\\\:\").replace(\" \", \"\\\\ \")+\".xml\")\n",
    "    \n",
    "    os.system(\"clear\")\n",
    "    key = raw_input(\"Deseja checar/marcar mais 10 imagens ? [S/N]: \")"
   ]
  },
  {
   "cell_type": "code",
   "execution_count": 7,
   "metadata": {
    "collapsed": false
   },
   "outputs": [
    {
     "data": {
      "text/plain": [
       "0"
      ]
     },
     "execution_count": 7,
     "metadata": {},
     "output_type": "execute_result"
    }
   ],
   "source": [
    "os.system(\"rm -R ./Train/imagens\\ to\\ check\")"
   ]
  },
  {
   "cell_type": "code",
   "execution_count": null,
   "metadata": {
    "collapsed": false
   },
   "outputs": [],
   "source": []
  },
  {
   "cell_type": "code",
   "execution_count": null,
   "metadata": {
    "collapsed": false
   },
   "outputs": [],
   "source": []
  },
  {
   "cell_type": "code",
   "execution_count": null,
   "metadata": {
    "collapsed": true
   },
   "outputs": [],
   "source": []
  },
  {
   "cell_type": "code",
   "execution_count": null,
   "metadata": {
    "collapsed": false
   },
   "outputs": [],
   "source": []
  },
  {
   "cell_type": "code",
   "execution_count": null,
   "metadata": {
    "collapsed": true
   },
   "outputs": [],
   "source": []
  }
 ],
 "metadata": {
  "kernelspec": {
   "display_name": "Python 2",
   "language": "python",
   "name": "python2"
  },
  "language_info": {
   "codemirror_mode": {
    "name": "ipython",
    "version": 2
   },
   "file_extension": ".py",
   "mimetype": "text/x-python",
   "name": "python",
   "nbconvert_exporter": "python",
   "pygments_lexer": "ipython2",
   "version": "2.7.6"
  }
 },
 "nbformat": 4,
 "nbformat_minor": 1
}
