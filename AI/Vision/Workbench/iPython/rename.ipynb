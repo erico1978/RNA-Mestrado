{
 "cells": [
  {
   "cell_type": "code",
   "execution_count": 1,
   "metadata": {
    "collapsed": true
   },
   "outputs": [],
   "source": [
    "import time\n",
    "import sys\n",
    "import os\n",
    "os.chdir('../')\n",
    "sys.path.append('./include')\n",
    "sys.path.append('./src')"
   ]
  },
  {
   "cell_type": "code",
   "execution_count": 2,
   "metadata": {
    "collapsed": false
   },
   "outputs": [],
   "source": [
    "image = 1\n",
    "names = [i.rsplit(\".\", 1)[0].replace(\" \", \"\\ \") for i in os.listdir(\"./Train/imagensTrain\")]\n",
    "\n",
    "digits = 0 \n",
    "size = len(names) \n",
    "while size > 0: \n",
    "    size /= 10 \n",
    "    digits += 1\n",
    "\n",
    "for name in names:\n",
    "#     print name\n",
    "    sub = \"sed -i 's/\"+ name.replace(\"\\ \", \" \") +\"/a\"+ str(image).zfill(digits) +\"/g' ./Train/annotations/\"+ name +\".xml\"\n",
    "#     print sub\n",
    "    os.system(sub)\n",
    "    jpg = \"mv ./Train/imagensTrain/\"+ name +\".jpg ./Train/imagensTrain/a\"+ str(image).zfill(digits) +\".jpg\"\n",
    "#     print jpg\n",
    "    os.system(jpg)\n",
    "    xml = \"mv ./Train/annotations/\"+ name +\".xml ./Train/annotations/a\"+ str(image).zfill(digits) +\".xml\"\n",
    "#     print xml\n",
    "    os.system(xml)\n",
    "#     raw_input()\n",
    "    image +=1"
   ]
  },
  {
   "cell_type": "code",
   "execution_count": null,
   "metadata": {
    "collapsed": false
   },
   "outputs": [],
   "source": [
    "image = 1\n",
    "names = [i.rsplit(\".\", 1)[0].replace(\" \", \"\\ \") for i in os.listdir(\"./Train/imagensTrain\")]\n",
    "\n",
    "digits = 0 \n",
    "size = len(names) \n",
    "while size > 0: \n",
    "    size /= 10 \n",
    "    digits += 1\n",
    "\n",
    "for name in names:\n",
    "    sub = \"sed -i 's/\"+ name.replace(\"\\ \", \" \") +\"/image\"+ str(image).zfill(digits) +\"/g' ./Train/annotations/\"+ name +\".xml\"\n",
    "    os.system(sub)\n",
    "    jpg = \"mv ./Train/imagensTrain/\"+ name +\".jpg ./Train/imagensTrain/image\"+ str(image).zfill(digits) +\".jpg\"\n",
    "    os.system(jpg)\n",
    "    xml = \"mv ./Train/annotations/\"+ name +\".xml ./Train/annotations/image\"+ str(image).zfill(digits) +\".xml\"\n",
    "    os.system(xml)\n",
    "    image +=1"
   ]
  },
  {
   "cell_type": "code",
   "execution_count": null,
   "metadata": {
    "collapsed": false
   },
   "outputs": [],
   "source": []
  },
  {
   "cell_type": "code",
   "execution_count": null,
   "metadata": {
    "collapsed": false
   },
   "outputs": [],
   "source": []
  },
  {
   "cell_type": "code",
   "execution_count": null,
   "metadata": {
    "collapsed": true
   },
   "outputs": [],
   "source": []
  }
 ],
 "metadata": {
  "kernelspec": {
   "display_name": "Python 2",
   "language": "python",
   "name": "python2"
  },
  "language_info": {
   "codemirror_mode": {
    "name": "ipython",
    "version": 2
   },
   "file_extension": ".py",
   "mimetype": "text/x-python",
   "name": "python",
   "nbconvert_exporter": "python",
   "pygments_lexer": "ipython2",
   "version": "2.7.6"
  }
 },
 "nbformat": 4,
 "nbformat_minor": 1
}
