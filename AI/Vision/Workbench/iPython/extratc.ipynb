{
 "cells": [
  {
   "cell_type": "markdown",
   "metadata": {
    "collapsed": true
   },
   "source": [
    "****************************************************************************\n",
    "* @file: extratc.py\n",
    "* @project: ROBOFEI-HT - FEI 😛\n",
    "* @author: Vinicius Nicassio Ferreira\n",
    "* @version: V0.0.1\n",
    "* @created: 23/10/2017\n",
    "* @e-mail: vinicius.nicassio@gmail.com\n",
    "* @brief: Class extratc\n",
    "****************************************************************************"
   ]
  },
  {
   "cell_type": "code",
   "execution_count": 1,
   "metadata": {
    "collapsed": true
   },
   "outputs": [],
   "source": [
    "#ini-iPython"
   ]
  },
  {
   "cell_type": "markdown",
   "metadata": {},
   "source": [
    "# Executando no diretório principal"
   ]
  },
  {
   "cell_type": "code",
   "execution_count": 2,
   "metadata": {
    "collapsed": true
   },
   "outputs": [],
   "source": [
    "import os\n",
    "os.chdir('../../') #Executando na pasta Visual_Memory\n",
    "# os.system(\"cd Workbench/ && ./zerar.sh && cd ..\")\n",
    "# os.system(\"cd Workbench/iPython/ && ./convertendo.sh && cd ../../\")\n",
    "import sys\n",
    "sys.path.append('./include')\n",
    "sys.path.append('./src')\n",
    "sys.path.append('./Workbench/iPython')\n",
    "#end-iPython"
   ]
  },
  {
   "cell_type": "markdown",
   "metadata": {},
   "source": [
    "---- Imports ----"
   ]
  },
  {
   "cell_type": "code",
   "execution_count": 3,
   "metadata": {
    "collapsed": true
   },
   "outputs": [],
   "source": [
    "# Libraries to be used.\n",
    "import time\n",
    "import sys\n",
    "import os\n",
    "#des-iPython os.chdir('../')\n",
    "#des-iPython sys.path.append('./include')\n",
    "#des-iPython sys.path.append('./src')"
   ]
  },
  {
   "cell_type": "code",
   "execution_count": 4,
   "metadata": {
    "collapsed": true
   },
   "outputs": [],
   "source": [
    "# Used class developed by RoboFEI-HT.\n",
    "#ini-iPython - Utilizado para o iPython reconhecer as classes\n",
    "sys.path.append('/home/vinicius/models/research')\n",
    "sys.path.append('/home/vinicius/models/research/object_detection')\n",
    "#end-iPython\n",
    "from DNN import * # Class that implements object detection using a deep neural network (DNN)."
   ]
  },
  {
   "cell_type": "code",
   "execution_count": 5,
   "metadata": {
    "collapsed": false
   },
   "outputs": [
    {
     "name": "stdout",
     "output_type": "stream",
     "text": [
      "DNN - PARAMETERS section not found!\n"
     ]
    }
   ],
   "source": [
    "class Argumentos:\n",
    "    dnn = True\n",
    "    train = True\n",
    "\n",
    "a = Argumentos()\n",
    "\n",
    "dnn = DNN(a)"
   ]
  },
  {
   "cell_type": "code",
   "execution_count": 6,
   "metadata": {
    "collapsed": false
   },
   "outputs": [],
   "source": [
    "dicionario = {}\n",
    "os.system(\"mkdir ./Train/imagens\\ to\\ classify\")\n",
    "for video in os.listdir(\"./Train/Videos\"):\n",
    "    cap = cv2.VideoCapture(\"./Train/Videos/\"+video)\n",
    "    while True:\n",
    "        for __ in xrange(0, 4):\n",
    "            __, dicionario[\"frame\"] = cap.read()\n",
    "        if dicionario[\"frame\"] is None:\n",
    "            break\n",
    "        dicionario[\"time\"] = time.time()\n",
    "        dnn.detect(dicionario)\n",
    "    os.system(\"rm ./Train/Videos/\"+video)"
   ]
  },
  {
   "cell_type": "code",
   "execution_count": 7,
   "metadata": {
    "collapsed": false
   },
   "outputs": [
    {
     "name": "stdout",
     "output_type": "stream",
     "text": [
      "['Rob00841', '738.198918511ballRight2', 'Robbaset00973', 'Rob03145', 'frames0_165', 'Rob00133', 'frames0_174', 'frames0_114', 'Rob00169', '2ballCenter1_108', 'Rob03853', 'Rob02149', 'Robbaset04093', 'frames0_064', 'Rob03073', 'Robbaset04897', 'frames0_120', 'Rob02269', 'Rob02233', '2ballCenter3_052', '2kickRight0_458', 'frames0_134', 'RobRoban01561', 'RobFalc00961', 'Rob03025', 'frames0_067', 'frames0_143', '2ballCenter0_229', '2ballRight1_180', '2kickRight0_318', 'Robbaset01009', 'Rob04717', '2ballLeft5_296', 'frames0_071', 'frames0_172', '2ballLeft2_252', '2ballLeft3_126', 'Rob02197', 'frames0_166', 'Robbaset00781', '2kickRight0_647', 'Rob03085', 'Rob04645', 'Rob01921', 'Rob04297', '2ballCenter2_074', 'Rob02941', '2kickRight0_073', 'Rob00997', 'frames0_068', '2ballLeft3_175', 'Rob04525', '2ballRight1_192', 'frames0_073', 'Rob00877', '2ballRight0_344', '2kickRight0_160', '2ballRight0_487', '2ballCenter3_068', 'Rob02413', '572.57612266ballRight15', 'frames0_101', '871.796112611ballRight11', 'frames0_048', 'frames1_156', '2ballCenter4_051', 'frames20_065', '2ballLeft0_163', 'Rob04261', 'Rob03013', 'frames20_033', 'Robbaset00925', '2ballCenter4_084', 'frames20_070', 'frames20_054', '2ballCenter3_458', 'Rob04633', '2ballLeft4_343', 'frames1_026', 'Rob04321', 'Robbaset01489', 'Rob02929', '592.513401163ballCenter4', '2kickRight0_291', 'Rob01753', '2ballRight0_339', 'frames0_151', 'frames1_077', '2ballLeft2_374', 'Rob00205', 'frames0_049', 'Rob00829', 'Robbaset00457', '2ballRight1_282', 'frames1_027', 'Rob04801', 'Rob04345', '2kickLeft0_417', '2kickRight0_031', 'frames20_057', '2017-05-18-191743', 'Rob02965', 'frames0_110', 'Robbaset03949', 'frames0_125', 'Robbaset04693', '871.796112611ballRight34', 'Rob04273', 'frames0_111', 'frames0_141', '2ballLeft5_233', '2017-05-18-191729', 'frames20_064', 'Rob02893', '2ballCenter0_053', 'Rob00757', 'frames20_059', 'Rob01885', 'Rob04309', 'Rob00985', 'Rob04609', '871.796112611ballRight16', '270.330342727ballCenter11', 'Rob00913', 'frames0_040', '2kickRight0_061', 'frames0_124', 'frames0_122', 'frames0_115', 'Rob03793', 'Rob00265', 'frames0_022', 'frames20_066', 'Rob00229', '2ballCenter3_499', 'Rob02209', 'frames0_087', 'Rob04669', 'Rob00973', 'Rob04765', '2ballRight1_109', '2ballCenter3_453', 'frames20_058', '2017-05-18-191717', 'frames0_104', 'Rob04285', 'frames0_082', '572.57612266ballRight20', 'frames0_023', 'Rob04333', 'Rob04585', '2ballCenter0_139', 'Rob00181', 'frames0_088', 'Rob03001', '2ballLeft3_218', 'Rob00901', 'frames0_077', 'frames1_062', '2ballCenter3_203', 'Rob03925', 'Rob04357', '2ballLeft0_053', '2ballCenter3_058', 'frames0_020', 'frames0_030', 'frames0_085', '2ballRight0_469', '2kickRight0_147', 'frames20_068', '2ballCenter4_103', '2ballLeft2_302', '2ballCenter3_413', '38.7327902887kickLeft0', 'frames0_080', '2017-05-18-191906', 'Rob02881', 'Rob01681', 'frames20_036', 'frames0_118', 'frames0_089', 'frames1_051', '2kickRight0_209', 'Rob04237', '2ballCenter2_022', '2ballCenter3_321', '2ballLeft1_242', '2ballLeft5_359', 'Rob01717', 'frames20_048', 'Rob03061', 'Rob00217', '2ballLeft1_230', 'frames0_153', 'Rob03133', 'Robbaset02929', 'Rob00157', 'frames1_050', '2ballLeft2_349', 'frames0_138', 'Rob00961', 'Rob01849', '2ballLeft1_194', '2kickLeft0_352', 'frames1_064', '2017-05-18-191738', 'frames0_163', 'Rob04453', 'frames0_026', '2ballLeft2_236', '2017-05-18-191806', 'frames20_034', '2ballCenter0_145', 'Rob02869', 'frames0_137', 'Robbaset00721', 'Rob04513', 'Rob00145', '2ballCenter3_422', '2kickRight0_555', 'Rob02341', 'Rob04681', 'Rob00253', '2ballCenter0_094', 'frames1_133', 'Rob00241', 'Rob03733', 'frames20_051', 'Rob02473', 'Robbaset06973', '2ballCenter2_114', 'Rob03937', 'Robbaset04525', '2ballRight0_251', 'frames0_021', '2kickLeft0_387', '2ballCenter0_275', '592.513401163ballCenter11', 'frames1_101', 'frames20_061', '2ballCenter3_528', 'frames0_086', '2kickRight0_283', 'Rob04381', 'frames0_074', 'Rob02365', 'Robbaset07261', 'frames0_046', '2kickRight0_404', 'Rob02317', '2kickRight0_734', '2kickRight0_086', 'frames1_165', 'frames20_062', '2ballCenter1_128', 'frames0_169', 'frames0_160', '2ballCenter0_283', 'frames20_043', '2ballRight1_275', '2kickLeft0_324', 'Rob02905', 'frames20_032', 'Robbaset02329', 'frames20_042', 'Rob03901', 'frames1_066', 'frames20_037', 'frames20_041', 'frames0_175', 'frames0_062', '2ballCenter3_256', '2ballLeft3_141', '2ballLeft1_235', 'frames1_048', 'frames1_076', '2ballRight0_284', '2ballRight1_102', '954.616616087kickLeft5', '2ballCenter2_206', 'Rob04249', 'Rob01981', 'Rob02857', '2ballLeft5_343', 'frames1_153', 'Robbaset00289', '2ballCenter4_098', 'frames1_063', '492.707095917ballRight9', '2kickRight0_053', 'frames0_123', 'Rob04441', '2ballCenter0_079', 'frames0_119', '781.235216921ballLeft8', 'Rob00805', 'frames20_067', 'Rob03757', '2ballCenter3_307', '84.3262495904ballRight2', 'frames20_045', 'frames1_131', 'Robbaset05233', 'Rob04465', '2ballCenter1_012', 'Rob00925', '2ballLeft5_105', '2ballLeft3_026', '2ballLeft4_432', 'Rob01909', 'frames1_024', 'frames0_100', '2ballLeft5_410', '2ballCenter0_113', 'frames1_065', 'Rob01873', '2ballCenter3_264', 'frames0_116', 'frames0_171', 'Rob03817', 'Rob04477', 'Rob04813', '2ballCenter3_251', 'frames0_167', 'Rob04537', '2ballLeft3_311', '2ballLeft1_151', '2ballCenter0_046', 'frames1_047', 'Rob04429', '2ballCenter3_149', 'frames20_035', 'frames20_056', '2ballCenter0_234', '2ballCenter1_039', '2ballLeft3_067', 'Rob03769', '2kickLeft0_298', 'Rob04549', 'Robbaset02365', '2ballRight0_350', 'Rob01705', 'frames0_051', '2ballLeft4_351', 'Rob03781', 'Rob04777', 'frames1_075', 'Rob03109', '2kickRight0_264', '2ballCenter2_211', '871.796112611ballRight28', '2ballLeft5_272', '2kickRight0_637', 'frames0_136', 'frames1_028', 'Rob04753', '2ballCenter1_102', 'Rob02449', 'Robbaset00181', 'frames0_042', '2ballCenter0_218', 'Rob03157', 'frames0_061', 'frames1_052', '2ballLeft2_366', 'frames1_142', '206.795846962ballRight3', 'Rob02389', '2ballCenter3_534', 'Rob02377', 'Robbaset03961', 'frames20_049', 'frames0_103', 'frames20_039', 'frames0_069', '2ballCenter0_203', '2kickRight0_070', 'frames0_081', '2ballCenter3_481', 'Rob01729', 'Robbaset02701', '2kickLeft0_402', 'Rob04741', 'frames20_052', '2ballCenter0_135', 'RobRoban01549', '2ballLeft1_012', '2ballRight1_288', '2ballCenter3_064', '2ballLeft4_439', 'frames0_032', '2ballLeft4_223', '2ballRight0_278', 'frames0_144', '2ballRight1_034', 'frames0_018', 'Rob02185', 'Rob02425', '2ballCenter2_105', '2017-05-18-191821', 'Rob02161', 'frames0_010', '2ballLeft1_165', 'frames0_133', 'frames1_160', 'frames0_024', '2ballRight1_026', '2kickRight0_168', 'frames0_117', 'frames20_063', 'Robbaset00937', '2ballCenter0_288', '2ballLeft2_343', 'Rob04693', 'frames20_040', 'frames0_105', 'frames0_145', 'Rob03841', 'Rob04849', 'frames20_047', 'Rob01837', 'Rob02353', 'Rob02257', '2kickLeft0_319', '2ballCenter3_539', 'Rob02137', '2ballRight0_098', '2ballRight1_093', '261.827342671ballCenter8', 'Rob04837', 'Rob04621', '2kickLeft0_331', 'Rob03721', '2ballLeft3_100', 'frames0_028', '2ballLeft4_359', 'Rob02221', 'Robbaset01393', 'Robbaset06133', 'frames0_072', 'frames0_060', '270.330342727ballCenter3', '2kickRight0_399', 'frames0_135', 'frames0_029', '2ballLeft3_335', 'Rob02305', 'frames20_050', 'Rob00949', '2ballRight0_482', 'Rob04501', '2ballLeft2_172', 'Rob02329', 'frames1_074', '2ballCenter4_038', 'frames1_045', 'Rob03097', 'frames1_080', '2ballRight1_361', '2ballLeft1_068', 'Rob04597', 'frames0_150', 'Rob03181', '2ballLeft2_306', '2ballCenter3_211', 'Rob02173', 'frames1_067', 'frames1_029', '2ballCenter3_225', 'frames1_130', '2ballLeft3_185', '2ballRight0_438', 'Rob02437', '2ballLeft4_238', 'frames20_038', 'frames0_078', 'Rob04789', 'Rob04561', 'frames0_152', 'frames1_025', 'frames0_158', '2ballLeft3_268', 'frames0_173', '2kickRight0_247', '2ballLeft0_026', 'Robbaset02125', '2ballRight0_267', 'frames20_053', '2ballLeft5_416', 'frames0_126', 'Rob05377', '2ballCenter3_447', 'Robbaset07609', 'frames0_164', '2kickRight0_556', '2ballLeft4_029', 'Rob02917', '2kickRight0_422', '2ballCenter1_045', 'frames0_066', 'frames0_139', 'Rob03889', 'frames0_156', '2ballLeft0_100', 'frames0_070', 'Rob04729', '2ballLeft1_267', 'Rob00889', 'Rob00289', 'Rob04417', '2ballRight0_150', '2ballRight0_404', 'Rob03877', 'Rob00817', '2kickRight0_302', '2kickRight0_735', 'Rob00277', '2ballLeft0_058', 'frames0_106', 'frames0_168', 'Rob00301', 'frames1_154', '2ballRight1_337', 'Rob01861', 'frames20_069', '2kickRight0_476', '2ballLeft4_217', '602.3675498ballRight12', 'Rob00853', 'frames0_130', 'frames0_050', '504.808648237kickLeft1', '2017-05-18-191833', 'Rob03745', 'frames0_154', 'frames0_052', 'Rob03121', '2ballCenter3_025', 'frames0_142', '2ballLeft0_156', 'Robbaset02977', '2ballRight0_205', 'Rob01897', 'Rob04657', 'frames0_063', '2ballCenter2_244', '2kickRight0_636', '2ballLeft1_093', 'Rob04825', 'frames0_027', 'Rob02461', 'Robbaset02389', 'Robbaset02905', 'frames0_107', 'frames0_047', 'Robbaset00961', 'frames0_090', '2ballLeft4_152', 'frames0_031', 'Rob00865', '2ballCenter3_019', 'Rob03169', 'frames0_102', 'frames0_079', '2017-05-18-191846', 'Rob04489', 'frames1_152', 'frames0_084', 'frames0_075', '2ballCenter2_159', '2ballLeft2_425', '2ballLeft1_137', 'frames0_159', 'frames0_053', 'Robbaset05161', '2ballRight0_342', 'Rob02293', 'Robbaset00877', 'frames0_045', 'frames0_039', 'Rob02989', 'frames0_132', 'Rob04393', '2ballCenter0_106', 'frames0_140', '2ballRight0_397', 'Rob03913', 'frames20_055', 'Robbaset06745', '2ballCenter2_200', 'Rob00193', 'Rob03037', '84.3262495904ballRight1', 'frames0_025', 'frames0_121', 'Rob04705', 'Rob04405', 'Rob00793', 'frames0_076', 'Rob04861', 'frames20_044', 'frames0_083', 'Rob03805', 'frames0_155', 'Robbaset00145', '2ballLeft0_048', 'Rob02401', 'frames20_031', '2kickRight0_141', 'Rob04369', 'frames0_131', '2ballRight0_427', '2ballLeft1_180', 'frames0_017', '2ballLeft5_112', '2ballLeft3_060', 'frames1_102', 'frames0_019', 'frames0_033', '2ballLeft2_249', '647.248629816kickRight2', 'frames1_155', 'Rob04573', 'Rob03049', '2ballRight0_419', '2ballCenter3_428', 'Rob02281', 'Rob00937', 'Rob00781', 'frames20_060', 'Rob02977', 'frames0_170', '788.339406435kickLeft3', 'Rob02245', '103.298143598kickRight10', '2ballLeft4_074', 'frames1_144', 'Rob00769', 'Robbaset02833', '2ballCenter4_045', 'frames0_065', 'Robbaset00337', 'frames20_046', 'Rob00733', '265.552678324ballLeft2', '2ballCenter2_080', 'frames1_068', '2ballCenter3_314', 'frames1_083', '2kickRight0_581']\n",
      "[]\n",
      "['Rob00841', '738.198918511ballRight2', 'Robbaset00973', 'Rob03145', 'frames0_165', 'Rob00133', 'frames0_174', 'frames0_114', 'Rob00169', '2ballCenter1_108', 'Rob03853', 'Rob02149', 'Robbaset04093', 'frames0_064', 'Rob03073', 'Robbaset04897', 'frames0_120', 'Rob02269', 'Rob02233', '2ballCenter3_052', '2kickRight0_458', 'frames0_134', 'RobRoban01561', 'RobFalc00961', 'Rob03025', 'frames0_067', 'frames0_143', '2ballCenter0_229', '2ballRight1_180', '2kickRight0_318', 'Robbaset01009', 'Rob04717', '2ballLeft5_296', 'frames0_071', 'frames0_172', '2ballLeft2_252', '2ballLeft3_126', 'Rob02197', 'frames0_166', 'Robbaset00781', '2kickRight0_647', 'Rob03085', 'Rob04645', 'Rob01921', 'Rob04297', '2ballCenter2_074', 'Rob02941', '2kickRight0_073', 'Rob00997', 'frames0_068', '2ballLeft3_175', 'Rob04525', '2ballRight1_192', 'frames0_073', 'Rob00877', '2ballRight0_344', '2kickRight0_160', '2ballRight0_487', '2ballCenter3_068', 'Rob02413', '572.57612266ballRight15', 'frames0_101', '871.796112611ballRight11', 'frames0_048', 'frames1_156', '2ballCenter4_051', 'frames20_065', '2ballLeft0_163', 'Rob04261', 'Rob03013', 'frames20_033', 'Robbaset00925', '2ballCenter4_084', 'frames20_070', 'frames20_054', '2ballCenter3_458', 'Rob04633', '2ballLeft4_343', 'frames1_026', 'Rob04321', 'Robbaset01489', 'Rob02929', '592.513401163ballCenter4', '2kickRight0_291', 'Rob01753', '2ballRight0_339', 'frames0_151', 'frames1_077', '2ballLeft2_374', 'Rob00205', 'frames0_049', 'Rob00829', 'Robbaset00457', '2ballRight1_282', 'frames1_027', 'Rob04801', 'Rob04345', '2kickLeft0_417', '2kickRight0_031', 'frames20_057', '2017-05-18-191743', 'Rob02965', 'frames0_110', 'Robbaset03949', 'frames0_125', 'Robbaset04693', '871.796112611ballRight34', 'Rob04273', 'frames0_111', 'frames0_141', '2ballLeft5_233', '2017-05-18-191729', 'frames20_064', 'Rob02893', '2ballCenter0_053', 'Rob00757', 'frames20_059', 'Rob01885', 'Rob04309', 'Rob00985', 'Rob04609', '871.796112611ballRight16', '270.330342727ballCenter11', 'Rob00913', 'frames0_040', '2kickRight0_061', 'frames0_124', 'frames0_122', 'frames0_115', 'Rob03793', 'Rob00265', 'frames0_022', 'frames20_066', 'Rob00229', '2ballCenter3_499', 'Rob02209', 'frames0_087', 'Rob04669', 'Rob00973', 'Rob04765', '2ballRight1_109', '2ballCenter3_453', 'frames20_058', '2017-05-18-191717', 'frames0_104', 'Rob04285', 'frames0_082', '572.57612266ballRight20', 'frames0_023', 'Rob04333', 'Rob04585', '2ballCenter0_139', 'Rob00181', 'frames0_088', 'Rob03001', '2ballLeft3_218', 'Rob00901', 'frames0_077', 'frames1_062', '2ballCenter3_203', 'Rob03925', 'Rob04357', '2ballLeft0_053', '2ballCenter3_058', 'frames0_020', 'frames0_030', 'frames0_085', '2ballRight0_469', '2kickRight0_147', 'frames20_068', '2ballCenter4_103', '2ballLeft2_302', '2ballCenter3_413', '38.7327902887kickLeft0', 'frames0_080', '2017-05-18-191906', 'Rob02881', 'Rob01681', 'frames20_036', 'frames0_118', 'frames0_089', 'frames1_051', '2kickRight0_209', 'Rob04237', '2ballCenter2_022', '2ballCenter3_321', '2ballLeft1_242', '2ballLeft5_359', 'Rob01717', 'frames20_048', 'Rob03061', 'Rob00217', '2ballLeft1_230', 'frames0_153', 'Rob03133', 'Robbaset02929', 'Rob00157', 'frames1_050', '2ballLeft2_349', 'frames0_138', 'Rob00961', 'Rob01849', '2ballLeft1_194', '2kickLeft0_352', 'frames1_064', '2017-05-18-191738', 'frames0_163', 'Rob04453', 'frames0_026', '2ballLeft2_236', '2017-05-18-191806', 'frames20_034', '2ballCenter0_145', 'Rob02869', 'frames0_137', 'Robbaset00721', 'Rob04513', 'Rob00145', '2ballCenter3_422', '2kickRight0_555', 'Rob02341', 'Rob04681', 'Rob00253', '2ballCenter0_094', 'frames1_133', 'Rob00241', 'Rob03733', 'frames20_051', 'Rob02473', 'Robbaset06973', '2ballCenter2_114', 'Rob03937', 'Robbaset04525', '2ballRight0_251', 'frames0_021', '2kickLeft0_387', '2ballCenter0_275', '592.513401163ballCenter11', 'frames1_101', 'frames20_061', '2ballCenter3_528', 'frames0_086', '2kickRight0_283', 'Rob04381', 'frames0_074', 'Rob02365', 'Robbaset07261', 'frames0_046', '2kickRight0_404', 'Rob02317', '2kickRight0_734', '2kickRight0_086', 'frames1_165', 'frames20_062', '2ballCenter1_128', 'frames0_169', 'frames0_160', '2ballCenter0_283', 'frames20_043', '2ballRight1_275', '2kickLeft0_324', 'Rob02905', 'frames20_032', 'Robbaset02329', 'frames20_042', 'Rob03901', 'frames1_066', 'frames20_037', 'frames20_041', 'frames0_175', 'frames0_062', '2ballCenter3_256', '2ballLeft3_141', '2ballLeft1_235', 'frames1_048', 'frames1_076', '2ballRight0_284', '2ballRight1_102', '954.616616087kickLeft5', '2ballCenter2_206', 'Rob04249', 'Rob01981', 'Rob02857', '2ballLeft5_343', 'frames1_153', 'Robbaset00289', '2ballCenter4_098', 'frames1_063', '492.707095917ballRight9', '2kickRight0_053', 'frames0_123', 'Rob04441', '2ballCenter0_079', 'frames0_119', '781.235216921ballLeft8', 'Rob00805', 'frames20_067', 'Rob03757', '2ballCenter3_307', '84.3262495904ballRight2', 'frames20_045', 'frames1_131', 'Robbaset05233', 'Rob04465', '2ballCenter1_012', 'Rob00925', '2ballLeft5_105', '2ballLeft3_026', '2ballLeft4_432', 'Rob01909', 'frames1_024', 'frames0_100', '2ballLeft5_410', '2ballCenter0_113', 'frames1_065', 'Rob01873', '2ballCenter3_264', 'frames0_116', 'frames0_171', 'Rob03817', 'Rob04477', 'Rob04813', '2ballCenter3_251', 'frames0_167', 'Rob04537', '2ballLeft3_311', '2ballLeft1_151', '2ballCenter0_046', 'frames1_047', 'Rob04429', '2ballCenter3_149', 'frames20_035', 'frames20_056', '2ballCenter0_234', '2ballCenter1_039', '2ballLeft3_067', 'Rob03769', '2kickLeft0_298', 'Rob04549', 'Robbaset02365', '2ballRight0_350', 'Rob01705', 'frames0_051', '2ballLeft4_351', 'Rob03781', 'Rob04777', 'frames1_075', 'Rob03109', '2kickRight0_264', '2ballCenter2_211', '871.796112611ballRight28', '2ballLeft5_272', '2kickRight0_637', 'frames0_136', 'frames1_028', 'Rob04753', '2ballCenter1_102', 'Rob02449', 'Robbaset00181', 'frames0_042', '2ballCenter0_218', 'Rob03157', 'frames0_061', 'frames1_052', '2ballLeft2_366', 'frames1_142', '206.795846962ballRight3', 'Rob02389', '2ballCenter3_534', 'Rob02377', 'Robbaset03961', 'frames20_049', 'frames0_103', 'frames20_039', 'frames0_069', '2ballCenter0_203', '2kickRight0_070', 'frames0_081', '2ballCenter3_481', 'Rob01729', 'Robbaset02701', '2kickLeft0_402', 'Rob04741', 'frames20_052', '2ballCenter0_135', 'RobRoban01549', '2ballLeft1_012', '2ballRight1_288', '2ballCenter3_064', '2ballLeft4_439', 'frames0_032', '2ballLeft4_223', '2ballRight0_278', 'frames0_144', '2ballRight1_034', 'frames0_018', 'Rob02185', 'Rob02425', '2ballCenter2_105', '2017-05-18-191821', 'Rob02161', 'frames0_010', '2ballLeft1_165', 'frames0_133', 'frames1_160', 'frames0_024', '2ballRight1_026', '2kickRight0_168', 'frames0_117', 'frames20_063', 'Robbaset00937', '2ballCenter0_288', '2ballLeft2_343', 'Rob04693', 'frames20_040', 'frames0_105', 'frames0_145', 'Rob03841', 'Rob04849', 'frames20_047', 'Rob01837', 'Rob02353', 'Rob02257', '2kickLeft0_319', '2ballCenter3_539', 'Rob02137', '2ballRight0_098', '2ballRight1_093', '261.827342671ballCenter8', 'Rob04837', 'Rob04621', '2kickLeft0_331', 'Rob03721', '2ballLeft3_100', 'frames0_028', '2ballLeft4_359', 'Rob02221', 'Robbaset01393', 'Robbaset06133', 'frames0_072', 'frames0_060', '270.330342727ballCenter3', '2kickRight0_399', 'frames0_135', 'frames0_029', '2ballLeft3_335', 'Rob02305', 'frames20_050', 'Rob00949', '2ballRight0_482', 'Rob04501', '2ballLeft2_172', 'Rob02329', 'frames1_074', '2ballCenter4_038', 'frames1_045', 'Rob03097', 'frames1_080', '2ballRight1_361', '2ballLeft1_068', 'Rob04597', 'frames0_150', 'Rob03181', '2ballLeft2_306', '2ballCenter3_211', 'Rob02173', 'frames1_067', 'frames1_029', '2ballCenter3_225', 'frames1_130', '2ballLeft3_185', '2ballRight0_438', 'Rob02437', '2ballLeft4_238', 'frames20_038', 'frames0_078', 'Rob04789', 'Rob04561', 'frames0_152', 'frames1_025', 'frames0_158', '2ballLeft3_268', 'frames0_173', '2kickRight0_247', '2ballLeft0_026', 'Robbaset02125', '2ballRight0_267', 'frames20_053', '2ballLeft5_416', 'frames0_126', 'Rob05377', '2ballCenter3_447', 'Robbaset07609', 'frames0_164', '2kickRight0_556', '2ballLeft4_029', 'Rob02917', '2kickRight0_422', '2ballCenter1_045', 'frames0_066', 'frames0_139', 'Rob03889', 'frames0_156', '2ballLeft0_100', 'frames0_070', 'Rob04729', '2ballLeft1_267', 'Rob00889', 'Rob00289', 'Rob04417', '2ballRight0_150', '2ballRight0_404', 'Rob03877', 'Rob00817', '2kickRight0_302', '2kickRight0_735', 'Rob00277', '2ballLeft0_058', 'frames0_106', 'frames0_168', 'Rob00301', 'frames1_154', '2ballRight1_337', 'Rob01861', 'frames20_069', '2kickRight0_476', '2ballLeft4_217', '602.3675498ballRight12', 'Rob00853', 'frames0_130', 'frames0_050', '504.808648237kickLeft1', '2017-05-18-191833', 'Rob03745', 'frames0_154', 'frames0_052', 'Rob03121', '2ballCenter3_025', 'frames0_142', '2ballLeft0_156', 'Robbaset02977', '2ballRight0_205', 'Rob01897', 'Rob04657', 'frames0_063', '2ballCenter2_244', '2kickRight0_636', '2ballLeft1_093', 'Rob04825', 'frames0_027', 'Rob02461', 'Robbaset02389', 'Robbaset02905', 'frames0_107', 'frames0_047', 'Robbaset00961', 'frames0_090', '2ballLeft4_152', 'frames0_031', 'Rob00865', '2ballCenter3_019', 'Rob03169', 'frames0_102', 'frames0_079', '2017-05-18-191846', 'Rob04489', 'frames1_152', 'frames0_084', 'frames0_075', '2ballCenter2_159', '2ballLeft2_425', '2ballLeft1_137', 'frames0_159', 'frames0_053', 'Robbaset05161', '2ballRight0_342', 'Rob02293', 'Robbaset00877', 'frames0_045', 'frames0_039', 'Rob02989', 'frames0_132', 'Rob04393', '2ballCenter0_106', 'frames0_140', '2ballRight0_397', 'Rob03913', 'frames20_055', 'Robbaset06745', '2ballCenter2_200', 'Rob00193', 'Rob03037', '84.3262495904ballRight1', 'frames0_025', 'frames0_121', 'Rob04705', 'Rob04405', 'Rob00793', 'frames0_076', 'Rob04861', 'frames20_044', 'frames0_083', 'Rob03805', 'frames0_155', 'Robbaset00145', '2ballLeft0_048', 'Rob02401', 'frames20_031', '2kickRight0_141', 'Rob04369', 'frames0_131', '2ballRight0_427', '2ballLeft1_180', 'frames0_017', '2ballLeft5_112', '2ballLeft3_060', 'frames1_102', 'frames0_019', 'frames0_033', '2ballLeft2_249', '647.248629816kickRight2', 'frames1_155', 'Rob04573', 'Rob03049', '2ballRight0_419', '2ballCenter3_428', 'Rob02281', 'Rob00937', 'Rob00781', 'frames20_060', 'Rob02977', 'frames0_170', '788.339406435kickLeft3', 'Rob02245', '103.298143598kickRight10', '2ballLeft4_074', 'frames1_144', 'Rob00769', 'Robbaset02833', '2ballCenter4_045', 'frames0_065', 'Robbaset00337', 'frames20_046', 'Rob00733', '265.552678324ballLeft2', '2ballCenter2_080', 'frames1_068', '2ballCenter3_314', 'frames1_083', '2kickRight0_581']\n",
      "Solicitação encerramento de processo pela thread \n"
     ]
    }
   ],
   "source": [
    "try:\n",
    "    imagens = [i.rsplit(\".\", 1)[0] for i in os.listdir(\"./Train/imagens to classify\")]\n",
    "    print imagens #debug-iPython\n",
    "    xmls = [i.rsplit(\".\", 1)[0] for i in os.listdir(\"./Train/annotations DNN\")]\n",
    "    print xmls #debug-iPython\n",
    "    imagens = [i for i in imagens if i not in xmls]\n",
    "    print imagens #debug-iPython\n",
    "    for image in imagens:\n",
    "        dicionario[\"frame\"] = cv2.imread(\"./Train/imagens to classify/\"+image+\".jpg\")\n",
    "        dicionario[\"time\"] = time.time()\n",
    "        dnn.detect(dicionario)\n",
    "        os.system(\"rm ./Train/imagens\\ to\\ classify/\"+image.replace(\":\",\"\\\\:\").replace(\" \",\"\\\\ \")+\".jpg\")\n",
    "    cv2.destroyAllWindows()\n",
    "except:\n",
    "    pass"
   ]
  },
  {
   "cell_type": "code",
   "execution_count": null,
   "metadata": {
    "collapsed": true
   },
   "outputs": [],
   "source": []
  }
 ],
 "metadata": {
  "kernelspec": {
   "display_name": "Python 2",
   "language": "python",
   "name": "python2"
  },
  "language_info": {
   "codemirror_mode": {
    "name": "ipython",
    "version": 2
   },
   "file_extension": ".py",
   "mimetype": "text/x-python",
   "name": "python",
   "nbconvert_exporter": "python",
   "pygments_lexer": "ipython2",
   "version": "2.7.6"
  }
 },
 "nbformat": 4,
 "nbformat_minor": 1
}
