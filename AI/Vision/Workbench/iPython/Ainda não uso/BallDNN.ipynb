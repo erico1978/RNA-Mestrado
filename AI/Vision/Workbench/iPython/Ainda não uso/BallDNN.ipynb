{
 "cells": [
  {
   "cell_type": "markdown",
   "metadata": {},
   "source": [
    "---- Imports ----"
   ]
  },
  {
   "cell_type": "code",
   "execution_count": 1,
   "metadata": {
    "collapsed": true
   },
   "outputs": [],
   "source": [
    "# Libraries to be used\n",
    "import sys\n",
    "import numpy as np\n",
    "import time\n",
    "import os\n",
    "import tempfile\n",
    "import tarfile\n",
    "from google.protobuf import text_format\n",
    "#des-iPython sys.path.append('../include')\n",
    "#des-iPython sys.path.append('../src')"
   ]
  },
  {
   "cell_type": "code",
   "execution_count": 2,
   "metadata": {
    "collapsed": false
   },
   "outputs": [],
   "source": [
    "# The standard libraries used in the vision system\n",
    "import caffe\n",
    "from caffe.proto import caffe_pb2  # noqa"
   ]
  },
  {
   "cell_type": "code",
   "execution_count": 3,
   "metadata": {
    "collapsed": false
   },
   "outputs": [
    {
     "name": "stdout",
     "output_type": "stream",
     "text": [
      "BasicClass - Opencv Version: 3.2.0-dev\n"
     ]
    }
   ],
   "source": [
    "# Used class developed by RoboFEI-HT\n",
    "sys.path.append('../../Blackboard/src') # debug-iPython\n",
    "from BasicThread import * # \n",
    "from ColorSegmentation import * # \n",
    "from Morphology import * #"
   ]
  },
  {
   "cell_type": "code",
   "execution_count": 4,
   "metadata": {
    "collapsed": true
   },
   "outputs": [],
   "source": [
    "#des-iPython class BallDNN(BasicThread):\n",
    "#ini-tab -> inicio classe"
   ]
  },
  {
   "cell_type": "code",
   "execution_count": 5,
   "metadata": {
    "collapsed": true
   },
   "outputs": [],
   "source": [
    "#ini-iPython -> Lista funções\n",
    "\n",
    "#self-iPython __unzip_archive\n",
    "#self-iPython __get_net\n",
    "#self-iPython __get_transformer\n",
    "#self-iPython __read_labels\n",
    "\n",
    "#Lista funções herdadas\n",
    "\n",
    "\n",
    "\n",
    "#Lista variaveis herdadas\n",
    "\n",
    "#self-iPython _confini\n",
    "\n",
    "class test():\n",
    "    localization = True\n",
    "    visionball = False\n",
    "    withoutservo = False\n",
    "    head = False\n",
    "\n",
    "_args = test() #self-iPython _args\n",
    "\n",
    "class test1():\n",
    "    def write_int(self, oi, asda):\n",
    "        pass\n",
    "    \n",
    "    def write_float(self, oi, asda):\n",
    "        pass\n",
    "    \n",
    "    def read_int(self, oi):\n",
    "        pass\n",
    "    \n",
    "    def read_float(self, oi):\n",
    "        pass\n",
    "\n",
    "_bkb = test1() #self-iPython _bkb\n",
    "\n",
    "\n",
    "_running = False #self-iPython _running\n",
    "_pausethread = None #self-iPython _pausethread\n",
    "\n",
    "#Lista variaveis\n",
    "\n",
    "\n",
    "\n",
    "#end-iPython"
   ]
  },
  {
   "cell_type": "markdown",
   "metadata": {},
   "source": [
    "---- Variables ----"
   ]
  },
  {
   "cell_type": "markdown",
   "metadata": {},
   "source": [
    "# observation\n",
    ".\n",
    "doxygen-iPython"
   ]
  },
  {
   "cell_type": "code",
   "execution_count": 6,
   "metadata": {
    "collapsed": true
   },
   "outputs": [],
   "source": [
    "__observation = None #self-iPython __observation"
   ]
  },
  {
   "cell_type": "markdown",
   "metadata": {},
   "source": [
    "# net\n",
    "doxygen-iPython"
   ]
  },
  {
   "cell_type": "code",
   "execution_count": 7,
   "metadata": {
    "collapsed": true
   },
   "outputs": [],
   "source": [
    "__net = None #self-iPython __net"
   ]
  },
  {
   "cell_type": "markdown",
   "metadata": {},
   "source": [
    "# transformer\n",
    "doxygen-iPython"
   ]
  },
  {
   "cell_type": "code",
   "execution_count": 8,
   "metadata": {
    "collapsed": true
   },
   "outputs": [],
   "source": [
    "__transformer = None #self-iPython __transformer"
   ]
  },
  {
   "cell_type": "markdown",
   "metadata": {},
   "source": [
    "# mean_file\n",
    "doxygen-iPython"
   ]
  },
  {
   "cell_type": "code",
   "execution_count": 9,
   "metadata": {
    "collapsed": true
   },
   "outputs": [],
   "source": [
    "__mean_file = None #self-iPython __mean_file"
   ]
  },
  {
   "cell_type": "markdown",
   "metadata": {},
   "source": [
    "# labels\n",
    "doxygen-iPython"
   ]
  },
  {
   "cell_type": "code",
   "execution_count": 10,
   "metadata": {
    "collapsed": true
   },
   "outputs": [],
   "source": [
    "__labels = None #self-iPython __labels"
   ]
  },
  {
   "cell_type": "code",
   "execution_count": 11,
   "metadata": {
    "collapsed": true
   },
   "outputs": [],
   "source": [
    "#eself-iPython __read_labels\n",
    "#edes-iPython def __read_labels(self, labels_file):\n",
    "def __read_labels(labels_file):\n",
    "    \"\"\"\n",
    "    Returns a list of strings\n",
    "    Arguments:\n",
    "    labels_file -- path to a .txt file\n",
    "    \"\"\"\n",
    "    if not labels_file:\n",
    "        print 'WARNING: No labels file provided. Results will be difficult to interpret.'\n",
    "        return None\n",
    "\n",
    "    labels = []\n",
    "    with open(labels_file) as infile:\n",
    "        for line in infile:\n",
    "            label = line.strip()\n",
    "            if label:\n",
    "                labels.append(label)\n",
    "    assert len(labels), 'No labels found'\n",
    "    return labels #self-iPython __read_labels"
   ]
  },
  {
   "cell_type": "markdown",
   "metadata": {},
   "source": [
    "# get_transformer\n",
    "doxygen-iPython"
   ]
  },
  {
   "cell_type": "code",
   "execution_count": 12,
   "metadata": {
    "collapsed": true
   },
   "outputs": [],
   "source": [
    "#eself-iPython __get_transformer\n",
    "#edes-iPython def __get_transformer(self, deploy_file, mean_file=None):\n",
    "def __get_transformer(deploy_file, mean_file=None):\n",
    "    \"\"\"\n",
    "    Returns an instance of caffe.io.Transformer\n",
    "    Arguments:\n",
    "    deploy_file -- path to a .prototxt file\n",
    "    Keyword arguments:\n",
    "    mean_file -- path to a .binaryproto file (optional)\n",
    "    \"\"\"\n",
    "    network = caffe_pb2.NetParameter()\n",
    "    with open(deploy_file) as infile:\n",
    "        text_format.Merge(infile.read(), network)\n",
    "\n",
    "    if network.input_shape:\n",
    "        dims = network.input_shape[0].dim\n",
    "    else:\n",
    "        dims = network.input_dim[:4]\n",
    "\n",
    "    t = caffe.io.Transformer(inputs={'data': dims})\n",
    "    t.set_transpose('data', (2, 0, 1))  # transpose to (channels, height, width)\n",
    "\n",
    "    # color images\n",
    "    if dims[1] == 3:\n",
    "        # channel swap\n",
    "        t.set_channel_swap('data', (2, 1, 0))\n",
    "\n",
    "    if mean_file:\n",
    "        # set mean pixel\n",
    "        with open(mean_file, 'rb') as infile:\n",
    "            blob = caffe_pb2.BlobProto()\n",
    "            blob.MergeFromString(infile.read())\n",
    "            if blob.HasField('shape'):\n",
    "                blob_dims = blob.shape\n",
    "                assert len(blob_dims) == 4, 'Shape should have 4 dimensions - shape is \"%s\"' % blob.shape\n",
    "            elif blob.HasField('num') and blob.HasField('channels') and \\\n",
    "                    blob.HasField('height') and blob.HasField('width'):\n",
    "                blob_dims = (blob.num, blob.channels, blob.height, blob.width)\n",
    "            else:\n",
    "                raise ValueError('blob does not provide shape or 4d dimensions')\n",
    "            pixel = np.reshape(blob.data, blob_dims[1:]).mean(1).mean(1)\n",
    "            t.set_mean('data', pixel)\n",
    "\n",
    "    return t #self-iPython __get_transformer"
   ]
  },
  {
   "cell_type": "markdown",
   "metadata": {},
   "source": [
    "# get_net\n",
    "doxygen-iPython"
   ]
  },
  {
   "cell_type": "code",
   "execution_count": 13,
   "metadata": {
    "collapsed": true
   },
   "outputs": [],
   "source": [
    "#eself-iPython __get_net\n",
    "#edes-iPython def __get_net(self, caffemodel, deploy_file, use_gpu=True):\n",
    "def __get_net(caffemodel, deploy_file, use_gpu=True):\n",
    "    \"\"\"\n",
    "    Returns an instance of caffe.Net\n",
    "    Arguments:\n",
    "    caffemodel -- path to a .caffemodel file\n",
    "    deploy_file -- path to a .prototxt file\n",
    "    Keyword arguments:\n",
    "    use_gpu -- if True, use the GPU for inference\n",
    "    \"\"\"\n",
    "    if use_gpu:\n",
    "        caffe.set_mode_gpu()\n",
    "\n",
    "    # load a new model\n",
    "    return caffe.Net(deploy_file, caffemodel, caffe.TEST) #self-iPython __get_net"
   ]
  },
  {
   "cell_type": "markdown",
   "metadata": {},
   "source": [
    "# unzip_archive\n",
    "doxygen-iPython"
   ]
  },
  {
   "cell_type": "code",
   "execution_count": 14,
   "metadata": {
    "collapsed": true
   },
   "outputs": [],
   "source": [
    "#eself-iPython __unzip_archive\n",
    "#edes-iPython def __unzip_archive(self, archive):\n",
    "def __unzip_archive(archive):\n",
    "    \"\"\"\n",
    "    Unzips an archive into a temporary directory\n",
    "    Returns a link to that directory\n",
    "    Arguments:\n",
    "    archive -- the path to an archive file\n",
    "    \"\"\"\n",
    "    assert os.path.exists(archive), 'File not found - %s' % archive\n",
    "\n",
    "    tmpdir = os.path.join(tempfile.gettempdir(), os.path.basename(archive))\n",
    "    assert tmpdir != archive  # That wouldn't work out\n",
    "\n",
    "    if os.path.exists(tmpdir):\n",
    "        # files are already extracted\n",
    "        pass\n",
    "    else:\n",
    "        if tarfile.is_tarfile(archive):\n",
    "            print 'Extracting tarfile ...'\n",
    "            with tarfile.open(archive) as tf:\n",
    "                tf.extractall(path=tmpdir)\n",
    "        elif zipfile.is_zipfile(archive):\n",
    "            print 'Extracting zipfile ...'\n",
    "            with zipfile.ZipFile(archive) as zf:\n",
    "                zf.extractall(path=tmpdir)\n",
    "        else:\n",
    "            raise ValueError('Unknown file type for %s' % os.path.basename(archive))\n",
    "    return tmpdir #self-iPython __unzip_archive"
   ]
  },
  {
   "cell_type": "code",
   "execution_count": 15,
   "metadata": {
    "collapsed": true
   },
   "outputs": [],
   "source": [
    "#ini-iPython"
   ]
  },
  {
   "cell_type": "markdown",
   "metadata": {},
   "source": [
    "## Teste find"
   ]
  },
  {
   "cell_type": "code",
   "execution_count": 16,
   "metadata": {
    "collapsed": false,
    "scrolled": true
   },
   "outputs": [
    {
     "data": {
      "text/plain": [
       "'/tmp/ball.tar.gz'"
      ]
     },
     "execution_count": 16,
     "metadata": {},
     "output_type": "execute_result"
    }
   ],
   "source": [
    "__unzip_archive('../Data/ball.tar.gz')\n",
    "#end-iPython"
   ]
  },
  {
   "cell_type": "code",
   "execution_count": 17,
   "metadata": {
    "collapsed": false
   },
   "outputs": [
    {
     "name": "stdout",
     "output_type": "stream",
     "text": [
      "Initiating class Ball DNN\n",
      "Unknown file: original.prototxt\n",
      "Unknown file: solver.prototxt\n",
      "Unknown file: info.json\n",
      "Unknown file: train_val.prototxt\n"
     ]
    }
   ],
   "source": [
    "#des-iPython def __init__(self, arg):\n",
    "#ini-tab -> inicio construtor\n",
    "print 'Initiating class Ball DNN'\n",
    "#edes-iPython super(BallDNN, self).__init__(arg, 'Ball', 'DNN')\n",
    "_confini = ConfigIni('Ball', 'DNN')\n",
    "\n",
    "__observation = _confini.read()\n",
    "if __observation is -1:\n",
    "    __observation = {\n",
    "        'x_esquerdo': 280,\n",
    "        'x_centro_esquerdo': 320,\n",
    "        'x_centro': 465,\n",
    "        'x_centro_direito': 645,\n",
    "        'x_direito': 703,\n",
    "\n",
    "        'y_chute': 549,\n",
    "        'y_longe': 220,\n",
    "        \n",
    "        'white': 200,\n",
    "        \n",
    "        'max_count': 10,\n",
    "        \n",
    "        'file DNN': 'ball.tar.gz'\n",
    "    }\n",
    "\n",
    "#edes-iPython tmpdir = __unzip_archive('./Data/' + __observation['file DNN'])\n",
    "tmpdir = __unzip_archive('../Data/' + __observation['file DNN'])\n",
    "caffemodel = None\n",
    "deploy_file = None\n",
    "labels_file = None\n",
    "for filename in os.listdir(tmpdir):\n",
    "    full_path = os.path.join(tmpdir, filename)\n",
    "    if filename.endswith('.caffemodel'):\n",
    "        caffemodel = full_path\n",
    "    elif filename == 'deploy.prototxt':\n",
    "        deploy_file = full_path\n",
    "    elif filename.endswith('.binaryproto'):\n",
    "        __mean_file = full_path\n",
    "    elif filename == 'labels.txt':\n",
    "        labels_file = full_path\n",
    "    else:\n",
    "        print 'Unknown file:', filename\n",
    "\n",
    "assert caffemodel is not None, 'Caffe model file not found'\n",
    "assert deploy_file is not None, 'Deploy file not found'\n",
    "\n",
    "__net = __get_net(caffemodel, deploy_file, use_gpu=False)\n",
    "# __transformer = __get_transformer(deploy_file, __mean_file)\n",
    "# __, channels, height, width = __transformer.inputs['data']\n",
    "# __labels = __read_labels(labels_file)\n",
    "\n",
    "# ###    #create index from label to use in decicion action\n",
    "# number_label =  dict(zip(__labels, range(len(__labels))))"
   ]
  },
  {
   "cell_type": "code",
   "execution_count": 18,
   "metadata": {
    "collapsed": true
   },
   "outputs": [],
   "source": [
    "#end-tab -> fim construtor"
   ]
  },
  {
   "cell_type": "code",
   "execution_count": 19,
   "metadata": {
    "collapsed": true
   },
   "outputs": [],
   "source": [
    "#end-tab -> fim classe"
   ]
  }
 ],
 "metadata": {
  "kernelspec": {
   "display_name": "Python 2",
   "language": "python",
   "name": "python2"
  },
  "language_info": {
   "codemirror_mode": {
    "name": "ipython",
    "version": 2
   },
   "file_extension": ".py",
   "mimetype": "text/x-python",
   "name": "python",
   "nbconvert_exporter": "python",
   "pygments_lexer": "ipython2",
   "version": "2.7.6"
  }
 },
 "nbformat": 4,
 "nbformat_minor": 1
}
