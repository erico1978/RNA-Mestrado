{
 "cells": [
  {
   "cell_type": "markdown",
   "metadata": {},
   "source": [
    "# Class to VisionException\n",
    "Class used to handle system errors\n",
    "doxygen-iPython"
   ]
  },
  {
   "cell_type": "code",
   "execution_count": null,
   "metadata": {
    "collapsed": true
   },
   "outputs": [],
   "source": [
    "#des-iPython class VisionException(Exception):\n",
    "#ini-tab -> Iniciando código classe"
   ]
  },
  {
   "cell_type": "markdown",
   "metadata": {},
   "source": [
    "# Constructor Class\n",
    "doxygen-iPython"
   ]
  },
  {
   "cell_type": "code",
   "execution_count": null,
   "metadata": {
    "collapsed": false
   },
   "outputs": [],
   "source": [
    "numbererror = 1 #debug-iPython\n",
    "message = '' #debug-iPython\n",
    "#des-iPython def __init__(self, numbererror, message):\n",
    "#ini-tab -> Criando construtor\n",
    "#des-iPython self.numbererror = numbererror\n",
    "if numbererror == 5:\n",
    "    print 'Solicitação encerramento de processo pela thread', message\n",
    "    return\n",
    "print 'Vision System Error:', \n",
    "if numbererror == 0:\n",
    "    print 'Could not read XML file for', message, 'detection'\n",
    "elif numbererror == 1:\n",
    "    print 'No connected cameras found'\n",
    "elif numbererror == 2:\n",
    "    print 'Unable to connect to port'\n",
    "elif numbererror == 3:\n",
    "    print 'Process kill command detected'\n",
    "elif numbererror == 4:\n",
    "    print 'Could not connect to servos'\n",
    "elif numbererror == 6:\n",
    "    print 'Camera disconnected'"
   ]
  },
  {
   "cell_type": "code",
   "execution_count": null,
   "metadata": {
    "collapsed": false
   },
   "outputs": [],
   "source": [
    "#end-tab -> Finalizando construtor"
   ]
  },
  {
   "cell_type": "code",
   "execution_count": null,
   "metadata": {
    "collapsed": true
   },
   "outputs": [],
   "source": [
    "#end-tab -> Finalizando classe"
   ]
  }
 ],
 "metadata": {
  "kernelspec": {
   "display_name": "Python 2",
   "language": "python",
   "name": "python2"
  },
  "language_info": {
   "codemirror_mode": {
    "name": "ipython",
    "version": 2
   },
   "file_extension": ".py",
   "mimetype": "text/x-python",
   "name": "python",
   "nbconvert_exporter": "python",
   "pygments_lexer": "ipython2",
   "version": "2.7.6"
  }
 },
 "nbformat": 4,
 "nbformat_minor": 1
}
