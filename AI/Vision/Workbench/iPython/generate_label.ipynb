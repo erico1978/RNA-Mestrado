{
 "cells": [
  {
   "cell_type": "code",
   "execution_count": null,
   "metadata": {
    "collapsed": true
   },
   "outputs": [],
   "source": [
    "import pandas as pd\n",
    "\n",
    "data = pd.read_csv(\"./data/train_labels.csv\")\n",
    "\n",
    "data = data.drop_duplicates(\"class\")\n",
    "\n",
    "data = data.sort_values(\"class\")\n",
    "\n",
    "id = 1\n",
    "for i in data[\"class\"][:]:\n",
    "    f = open(\"./data/object-detection.pbtxt\", \"a\")\n",
    "    f.write(\"item {\\n  id: \" + str(id) + \"\\n  name: '\" + i + \"'\\n}\\n\\n\")\n",
    "    id += 1\n",
    "    f.close()"
   ]
  }
 ],
 "metadata": {
  "kernelspec": {
   "display_name": "Python 2",
   "language": "python",
   "name": "python2"
  },
  "language_info": {
   "codemirror_mode": {
    "name": "ipython",
    "version": 2
   },
   "file_extension": ".py",
   "mimetype": "text/x-python",
   "name": "python",
   "nbconvert_exporter": "python",
   "pygments_lexer": "ipython2",
   "version": "2.7.6"
  }
 },
 "nbformat": 4,
 "nbformat_minor": 1
}
